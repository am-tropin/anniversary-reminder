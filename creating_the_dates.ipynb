{
 "cells": [
  {
   "cell_type": "code",
   "execution_count": null,
   "id": "d03cf9d7",
   "metadata": {},
   "outputs": [],
   "source": []
  },
  {
   "cell_type": "markdown",
   "id": "a64bdc77",
   "metadata": {},
   "source": [
    "# 1. Creating the list of dates"
   ]
  },
  {
   "cell_type": "code",
   "execution_count": 24,
   "id": "84d00487",
   "metadata": {},
   "outputs": [],
   "source": [
    "from datetime import datetime, date, timedelta\n",
    "import pandas as pd \n"
   ]
  },
  {
   "cell_type": "code",
   "execution_count": 7,
   "id": "8cb0b408",
   "metadata": {},
   "outputs": [],
   "source": [
    "TODAY_DT = date.today().strftime(\"%Y-%m-%d\")\n"
   ]
  },
  {
   "cell_type": "code",
   "execution_count": 13,
   "id": "737e330b",
   "metadata": {},
   "outputs": [],
   "source": [
    "def days_between(d1, d2):\n",
    "    d1 = datetime.strptime(d1, \"%Y-%m-%d\")\n",
    "    d2 = datetime.strptime(d2, \"%Y-%m-%d\")\n",
    "    return abs((d2 - d1).days)\n",
    "\n",
    "def anniversary(check_date, event_date):\n",
    "    if check_date.month == event_date.month and check_date.day == event_date.day:\n",
    "        return check_date.year - event_date.year\n",
    "    else:\n",
    "        return None\n",
    "\n",
    "# iterator by date\n",
    "# date format of input args: date(YYYY, MM, DD)\n",
    "def daterange(start_date, end_date):\n",
    "    for n in range(int((end_date - start_date).days)):\n",
    "        yield start_date + timedelta(n)\n"
   ]
  },
  {
   "cell_type": "code",
   "execution_count": 36,
   "id": "95ee4eff",
   "metadata": {},
   "outputs": [
    {
     "data": {
      "text/html": [
       "<div>\n",
       "<style scoped>\n",
       "    .dataframe tbody tr th:only-of-type {\n",
       "        vertical-align: middle;\n",
       "    }\n",
       "\n",
       "    .dataframe tbody tr th {\n",
       "        vertical-align: top;\n",
       "    }\n",
       "\n",
       "    .dataframe thead th {\n",
       "        text-align: right;\n",
       "    }\n",
       "</style>\n",
       "<table border=\"1\" class=\"dataframe\">\n",
       "  <thead>\n",
       "    <tr style=\"text-align: right;\">\n",
       "      <th></th>\n",
       "      <th>event</th>\n",
       "      <th>date</th>\n",
       "      <th>importance</th>\n",
       "      <th>category</th>\n",
       "    </tr>\n",
       "  </thead>\n",
       "  <tbody>\n",
       "    <tr>\n",
       "      <th>0</th>\n",
       "      <td>Birth</td>\n",
       "      <td>1926-04-21</td>\n",
       "      <td>1</td>\n",
       "      <td>Elizabeth II</td>\n",
       "    </tr>\n",
       "    <tr>\n",
       "      <th>1</th>\n",
       "      <td>Engagement with Philip</td>\n",
       "      <td>1947-07-09</td>\n",
       "      <td>3</td>\n",
       "      <td>Elizabeth II</td>\n",
       "    </tr>\n",
       "    <tr>\n",
       "      <th>2</th>\n",
       "      <td>Wedding with Philip</td>\n",
       "      <td>1947-11-20</td>\n",
       "      <td>2</td>\n",
       "      <td>Elizabeth II</td>\n",
       "    </tr>\n",
       "    <tr>\n",
       "      <th>3</th>\n",
       "      <td>Charles' birth</td>\n",
       "      <td>1948-11-14</td>\n",
       "      <td>2</td>\n",
       "      <td>Elizabeth II</td>\n",
       "    </tr>\n",
       "    <tr>\n",
       "      <th>4</th>\n",
       "      <td>Anne's birth</td>\n",
       "      <td>1950-08-15</td>\n",
       "      <td>2</td>\n",
       "      <td>Elizabeth II</td>\n",
       "    </tr>\n",
       "    <tr>\n",
       "      <th>5</th>\n",
       "      <td>Beginning of reign</td>\n",
       "      <td>1952-02-06</td>\n",
       "      <td>1</td>\n",
       "      <td>Elizabeth II</td>\n",
       "    </tr>\n",
       "    <tr>\n",
       "      <th>6</th>\n",
       "      <td>Coronation</td>\n",
       "      <td>1953-06-02</td>\n",
       "      <td>2</td>\n",
       "      <td>Elizabeth II</td>\n",
       "    </tr>\n",
       "    <tr>\n",
       "      <th>7</th>\n",
       "      <td>Andrew's birth</td>\n",
       "      <td>1960-02-19</td>\n",
       "      <td>2</td>\n",
       "      <td>Elizabeth II</td>\n",
       "    </tr>\n",
       "    <tr>\n",
       "      <th>8</th>\n",
       "      <td>Edward's birth</td>\n",
       "      <td>1964-03-10</td>\n",
       "      <td>2</td>\n",
       "      <td>Elizabeth II</td>\n",
       "    </tr>\n",
       "    <tr>\n",
       "      <th>9</th>\n",
       "      <td>Philip's death</td>\n",
       "      <td>2021-04-09</td>\n",
       "      <td>2</td>\n",
       "      <td>Elizabeth II</td>\n",
       "    </tr>\n",
       "    <tr>\n",
       "      <th>10</th>\n",
       "      <td>Death</td>\n",
       "      <td>2022-09-08</td>\n",
       "      <td>1</td>\n",
       "      <td>Elizabeth II</td>\n",
       "    </tr>\n",
       "  </tbody>\n",
       "</table>\n",
       "</div>"
      ],
      "text/plain": [
       "                     event        date  importance      category\n",
       "0                    Birth  1926-04-21           1  Elizabeth II\n",
       "1   Engagement with Philip  1947-07-09           3  Elizabeth II\n",
       "2      Wedding with Philip  1947-11-20           2  Elizabeth II\n",
       "3           Charles' birth  1948-11-14           2  Elizabeth II\n",
       "4             Anne's birth  1950-08-15           2  Elizabeth II\n",
       "5       Beginning of reign  1952-02-06           1  Elizabeth II\n",
       "6               Coronation  1953-06-02           2  Elizabeth II\n",
       "7           Andrew's birth  1960-02-19           2  Elizabeth II\n",
       "8           Edward's birth  1964-03-10           2  Elizabeth II\n",
       "9           Philip's death  2021-04-09           2  Elizabeth II\n",
       "10                   Death  2022-09-08           1  Elizabeth II"
      ]
     },
     "execution_count": 36,
     "metadata": {},
     "output_type": "execute_result"
    }
   ],
   "source": [
    "# https://en.wikipedia.org/wiki/Elizabeth_II\n",
    "\n",
    "events = {\n",
    "    'Birth': {'date': '1926-04-21', 'importance': 1, 'category': 'Elizabeth II'},\n",
    "    'Engagement with Philip': {'date': '1947-07-09', 'importance': 3, 'category': 'Elizabeth II'},\n",
    "    'Wedding with Philip': {'date': '1947-11-20', 'importance': 2, 'category': 'Elizabeth II'},\n",
    "    \"Charles' birth\": {'date': '1948-11-14', 'importance': 2, 'category': 'Elizabeth II'},\n",
    "    \"Anne's birth\": {'date': '1950-08-15', 'importance': 2, 'category': 'Elizabeth II'},\n",
    "    'Beginning of reign': {'date': '1952-02-06', 'importance': 1, 'category': 'Elizabeth II'},\n",
    "    'Coronation': {'date': '1953-06-02', 'importance': 2, 'category': 'Elizabeth II'},\n",
    "    \"Andrew's birth\": {'date': '1960-02-19', 'importance': 2, 'category': 'Elizabeth II'},\n",
    "    \"Edward's birth\": {'date': '1964-03-10', 'importance': 2, 'category': 'Elizabeth II'},\n",
    "    \"Philip's death\": {'date': '2021-04-09', 'importance': 2, 'category': 'Elizabeth II'},\n",
    "    'Death': {'date': '2022-09-08', 'importance': 1, 'category': 'Elizabeth II'},\n",
    "}\n",
    "\n",
    "events_table = pd.DataFrame.from_dict(events, orient='index').reset_index().rename(columns={'index':'event'})\n",
    "events_table\n"
   ]
  },
  {
   "cell_type": "code",
   "execution_count": 37,
   "id": "6baa899d",
   "metadata": {},
   "outputs": [
    {
     "name": "stdout",
     "output_type": "stream",
     "text": [
      "Today is...\n",
      "35460 days since Birth\n",
      "27711 days since Engagement with Philip\n",
      "27577 days since Wedding with Philip\n",
      "27217 days since Charles' birth\n",
      "26578 days since Anne's birth\n",
      "26038 days since Beginning of reign\n",
      "25556 days since Coronation\n",
      "23103 days since Andrew's birth\n",
      "21622 days since Edward's birth\n",
      "773 days since Philip's death\n",
      "256 days since Death\n"
     ]
    }
   ],
   "source": [
    "print(\"Today is...\")\n",
    "for event in events.keys():\n",
    "    print(\"{} days since {}\".format(days_between(TODAY_DT, events[event]['date']), event))\n"
   ]
  },
  {
   "cell_type": "code",
   "execution_count": 38,
   "id": "7f9e4244",
   "metadata": {},
   "outputs": [
    {
     "name": "stdout",
     "output_type": "stream",
     "text": [
      "25300 days between Coronation and Death\n",
      "\n"
     ]
    }
   ],
   "source": [
    "for event1 in events.keys():\n",
    "    for event2 in events.keys():\n",
    "        if days_between(events[event1]['date'], events[event2]['date']) % 100 == 0 and event1 != event2 and events[event1]['date'] < events[event2]['date']:\n",
    "            print(\"{} days between {} and {}\".format(days_between(events[event1]['date'], events[event2]['date']), event1, event2))\n",
    "\n",
    "print(\"\")"
   ]
  },
  {
   "cell_type": "code",
   "execution_count": 39,
   "id": "3d36464b",
   "metadata": {},
   "outputs": [
    {
     "name": "stdout",
     "output_type": "stream",
     "text": [
      "2023-06-02 -- 70 years since Coronation\n",
      "2023-06-13 -- 26600 days since Anne's birth\n",
      "2023-06-14 -- 27600 days since Wedding with Philip\n",
      "2023-06-18 -- 800 days since Philip's death\n",
      "2023-07-01 -- 35500 days since Birth\n",
      "2023-07-05 -- 25600 days since Coronation\n",
      "2023-07-05 -- 300 days since Death\n",
      "2023-07-09 -- 76 years since Engagement with Philip\n",
      "2023-07-23 -- 26100 days since Beginning of reign\n",
      "2023-08-08 -- 21700 days since Edward's birth\n",
      "2023-08-13 -- 27300 days since Charles' birth\n",
      "2023-08-15 -- 73 years since Anne's birth\n",
      "2023-08-27 -- 23200 days since Andrew's birth\n",
      "2023-09-08 -- 1 years since Death\n",
      "2023-09-21 -- 26700 days since Anne's birth\n",
      "2023-09-22 -- 27700 days since Wedding with Philip\n",
      "2023-09-26 -- 900 days since Philip's death\n",
      "2023-10-09 -- 35600 days since Birth\n",
      "2023-10-13 -- 25700 days since Coronation\n",
      "2023-10-13 -- 400 days since Death\n",
      "2023-10-31 -- 26200 days since Beginning of reign\n",
      "2023-11-14 -- 75 years since Charles' birth\n",
      "2023-11-16 -- 21800 days since Edward's birth\n",
      "2023-11-20 -- 76 years since Wedding with Philip\n",
      "2023-11-21 -- 27400 days since Charles' birth\n",
      "2023-12-05 -- 23300 days since Andrew's birth\n",
      "2023-12-30 -- 26800 days since Anne's birth\n"
     ]
    }
   ],
   "source": [
    "for dt in daterange(date.today(), date(2023, 12, 31)):\n",
    "    for event in events.keys():\n",
    "        if (\n",
    "            (days_between(dt.strftime('%Y-%m-%d'), events[event]['date']) % 100 == 0 and events[event]['importance'] <= 2)\n",
    "            or\n",
    "            (days_between(dt.strftime('%Y-%m-%d'), events[event]['date']) % 1000 == 0 and events[event]['importance'] == 3)\n",
    "        ):\n",
    "            print(\"{} -- {} days since {}\".format(dt, days_between(dt.strftime('%Y-%m-%d'), events[event]['date']), event))\n",
    "        if anniversary(dt, datetime.strptime(events[event]['date'], \"%Y-%m-%d\")):\n",
    "            print(\"{} -- {} years since {}\".format(dt, anniversary(dt, datetime.strptime(events[event]['date'], \"%Y-%m-%d\")), event))\n",
    "            \n"
   ]
  },
  {
   "cell_type": "code",
   "execution_count": null,
   "id": "49d79dec",
   "metadata": {},
   "outputs": [],
   "source": []
  },
  {
   "cell_type": "code",
   "execution_count": null,
   "id": "fb760d65",
   "metadata": {},
   "outputs": [],
   "source": []
  },
  {
   "cell_type": "code",
   "execution_count": null,
   "id": "e184e7a4",
   "metadata": {},
   "outputs": [],
   "source": []
  },
  {
   "cell_type": "code",
   "execution_count": null,
   "id": "0ba5fced",
   "metadata": {},
   "outputs": [],
   "source": []
  },
  {
   "cell_type": "code",
   "execution_count": null,
   "id": "492546b8",
   "metadata": {},
   "outputs": [],
   "source": [
    "\n",
    "Dasha_birthday_dt = '1997-10-31'\n",
    "Sasha_birthday_dt = '1992-05-26'\n",
    "\n",
    "print(\"\")\n",
    "print(\"Age difference: {} days\".format(days_between(Sasha_birthday_dt, Dasha_birthday_dt)))\n",
    "print(\"Sasha age: {} days\".format(days_between(TODAY_DT, Sasha_birthday_dt)))\n",
    "print(\"Dasha age: {} days\".format(days_between(TODAY_DT, Dasha_birthday_dt)))\n",
    "print(\"Total age: {} days\".format(days_between(TODAY_DT, Dasha_birthday_dt) + days_between(today_dt, Sasha_birthday_dt)))\n",
    "\n",
    "for date in daterange(date.today(), date(2023, 12, 31)):\n",
    "    if (days_between(date.strftime('%Y-%m-%d'), Dasha_birthday_dt) + days_between(date.strftime('%Y-%m-%d'), Sasha_birthday_dt)) % 1000 == 0:\n",
    "        print(\"{} -- {} days of our combined age\".format(date, days_between(date.strftime('%Y-%m-%d'), Dasha_birthday_dt) + days_between(date.strftime('%Y-%m-%d'), Sasha_birthday_dt)))\n"
   ]
  }
 ],
 "metadata": {
  "kernelspec": {
   "display_name": "Python 3 (ipykernel)",
   "language": "python",
   "name": "python3"
  },
  "language_info": {
   "codemirror_mode": {
    "name": "ipython",
    "version": 3
   },
   "file_extension": ".py",
   "mimetype": "text/x-python",
   "name": "python",
   "nbconvert_exporter": "python",
   "pygments_lexer": "ipython3",
   "version": "3.11.1"
  }
 },
 "nbformat": 4,
 "nbformat_minor": 5
}
