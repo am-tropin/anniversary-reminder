{
 "cells": [
  {
   "cell_type": "code",
   "execution_count": null,
   "id": "16951488",
   "metadata": {},
   "outputs": [],
   "source": []
  },
  {
   "cell_type": "code",
   "execution_count": 7,
   "id": "2e3f6407",
   "metadata": {},
   "outputs": [],
   "source": [
    "TODAY_DT = date.today().strftime(\"%Y-%m-%d\")\n"
   ]
  },
  {
   "cell_type": "markdown",
   "id": "072959c5",
   "metadata": {},
   "source": [
    "# 1. Creating the default dates"
   ]
  },
  {
   "cell_type": "code",
   "execution_count": 123,
   "id": "1368a621",
   "metadata": {},
   "outputs": [],
   "source": [
    "import pandas as pd \n"
   ]
  },
  {
   "cell_type": "code",
   "execution_count": 119,
   "id": "13861dff",
   "metadata": {},
   "outputs": [
    {
     "data": {
      "text/html": [
       "<div>\n",
       "<style scoped>\n",
       "    .dataframe tbody tr th:only-of-type {\n",
       "        vertical-align: middle;\n",
       "    }\n",
       "\n",
       "    .dataframe tbody tr th {\n",
       "        vertical-align: top;\n",
       "    }\n",
       "\n",
       "    .dataframe thead th {\n",
       "        text-align: right;\n",
       "    }\n",
       "</style>\n",
       "<table border=\"1\" class=\"dataframe\">\n",
       "  <thead>\n",
       "    <tr style=\"text-align: right;\">\n",
       "      <th></th>\n",
       "      <th>event</th>\n",
       "      <th>date</th>\n",
       "      <th>importance</th>\n",
       "      <th>category</th>\n",
       "    </tr>\n",
       "  </thead>\n",
       "  <tbody>\n",
       "    <tr>\n",
       "      <th>0</th>\n",
       "      <td>Philip's birth</td>\n",
       "      <td>1921-06-10</td>\n",
       "      <td>1</td>\n",
       "      <td>Prince Philip</td>\n",
       "    </tr>\n",
       "    <tr>\n",
       "      <th>1</th>\n",
       "      <td>Elizabeth's birth</td>\n",
       "      <td>1926-04-21</td>\n",
       "      <td>1</td>\n",
       "      <td>Elizabeth II</td>\n",
       "    </tr>\n",
       "    <tr>\n",
       "      <th>2</th>\n",
       "      <td>Engagement</td>\n",
       "      <td>1947-07-09</td>\n",
       "      <td>3</td>\n",
       "      <td>Both</td>\n",
       "    </tr>\n",
       "    <tr>\n",
       "      <th>3</th>\n",
       "      <td>Wedding</td>\n",
       "      <td>1947-11-20</td>\n",
       "      <td>2</td>\n",
       "      <td>Both</td>\n",
       "    </tr>\n",
       "    <tr>\n",
       "      <th>4</th>\n",
       "      <td>Charles' birth</td>\n",
       "      <td>1948-11-14</td>\n",
       "      <td>1</td>\n",
       "      <td>Both</td>\n",
       "    </tr>\n",
       "    <tr>\n",
       "      <th>5</th>\n",
       "      <td>Anne's birth</td>\n",
       "      <td>1950-08-15</td>\n",
       "      <td>2</td>\n",
       "      <td>Both</td>\n",
       "    </tr>\n",
       "    <tr>\n",
       "      <th>6</th>\n",
       "      <td>Beginning of reign</td>\n",
       "      <td>1952-02-06</td>\n",
       "      <td>1</td>\n",
       "      <td>Both</td>\n",
       "    </tr>\n",
       "    <tr>\n",
       "      <th>7</th>\n",
       "      <td>Coronation</td>\n",
       "      <td>1953-06-02</td>\n",
       "      <td>2</td>\n",
       "      <td>Both</td>\n",
       "    </tr>\n",
       "    <tr>\n",
       "      <th>8</th>\n",
       "      <td>Andrew's birth</td>\n",
       "      <td>1960-02-19</td>\n",
       "      <td>2</td>\n",
       "      <td>Both</td>\n",
       "    </tr>\n",
       "    <tr>\n",
       "      <th>9</th>\n",
       "      <td>Edward's birth</td>\n",
       "      <td>1964-03-10</td>\n",
       "      <td>2</td>\n",
       "      <td>Both</td>\n",
       "    </tr>\n",
       "    <tr>\n",
       "      <th>10</th>\n",
       "      <td>Philip's death</td>\n",
       "      <td>2021-04-09</td>\n",
       "      <td>2</td>\n",
       "      <td>Prince Philip</td>\n",
       "    </tr>\n",
       "    <tr>\n",
       "      <th>11</th>\n",
       "      <td>Elizabeth's death</td>\n",
       "      <td>2022-09-08</td>\n",
       "      <td>1</td>\n",
       "      <td>Elizabeth II</td>\n",
       "    </tr>\n",
       "  </tbody>\n",
       "</table>\n",
       "</div>"
      ],
      "text/plain": [
       "                 event        date  importance       category\n",
       "0       Philip's birth  1921-06-10           1  Prince Philip\n",
       "1    Elizabeth's birth  1926-04-21           1   Elizabeth II\n",
       "2           Engagement  1947-07-09           3           Both\n",
       "3              Wedding  1947-11-20           2           Both\n",
       "4       Charles' birth  1948-11-14           1           Both\n",
       "5         Anne's birth  1950-08-15           2           Both\n",
       "6   Beginning of reign  1952-02-06           1           Both\n",
       "7           Coronation  1953-06-02           2           Both\n",
       "8       Andrew's birth  1960-02-19           2           Both\n",
       "9       Edward's birth  1964-03-10           2           Both\n",
       "10      Philip's death  2021-04-09           2  Prince Philip\n",
       "11   Elizabeth's death  2022-09-08           1   Elizabeth II"
      ]
     },
     "execution_count": 119,
     "metadata": {},
     "output_type": "execute_result"
    }
   ],
   "source": [
    "# https://en.wikipedia.org/wiki/Elizabeth_II\n",
    "\n",
    "events = {\n",
    "    \"Philip's birth\": {'date': '1921-06-10', 'importance': 1, 'category': 'Prince Philip'},\n",
    "    \"Elizabeth's birth\": {'date': '1926-04-21', 'importance': 1, 'category': 'Elizabeth II'},\n",
    "    'Engagement': {'date': '1947-07-09', 'importance': 3, 'category': 'Both'},\n",
    "    'Wedding': {'date': '1947-11-20', 'importance': 2, 'category': 'Both'},\n",
    "    \"Charles' birth\": {'date': '1948-11-14', 'importance': 1, 'category': 'Both'},\n",
    "    \"Anne's birth\": {'date': '1950-08-15', 'importance': 2, 'category': 'Both'},\n",
    "    'Beginning of reign': {'date': '1952-02-06', 'importance': 1, 'category': 'Both'},\n",
    "    'Coronation': {'date': '1953-06-02', 'importance': 2, 'category': 'Both'},\n",
    "    \"Andrew's birth\": {'date': '1960-02-19', 'importance': 2, 'category': 'Both'},\n",
    "    \"Edward's birth\": {'date': '1964-03-10', 'importance': 2, 'category': 'Both'},\n",
    "    \"Philip's death\": {'date': '2021-04-09', 'importance': 2, 'category': 'Prince Philip'},\n",
    "    \"Elizabeth's death\": {'date': '2022-09-08', 'importance': 1, 'category': 'Elizabeth II'},\n",
    "}\n",
    "\n",
    "events_df = pd.DataFrame.from_dict(events, orient='index').reset_index().rename(columns={'index':'event'})\n",
    "events_df\n"
   ]
  },
  {
   "cell_type": "code",
   "execution_count": 120,
   "id": "b860bbf7",
   "metadata": {},
   "outputs": [],
   "source": [
    "events_df.to_csv(\"events.csv\", index=False)\n"
   ]
  },
  {
   "cell_type": "markdown",
   "id": "98f2edcc",
   "metadata": {},
   "source": [
    "# 2. Defining the csv of dates"
   ]
  },
  {
   "cell_type": "code",
   "execution_count": 121,
   "id": "765049cc",
   "metadata": {},
   "outputs": [
    {
     "data": {
      "text/html": [
       "<div>\n",
       "<style scoped>\n",
       "    .dataframe tbody tr th:only-of-type {\n",
       "        vertical-align: middle;\n",
       "    }\n",
       "\n",
       "    .dataframe tbody tr th {\n",
       "        vertical-align: top;\n",
       "    }\n",
       "\n",
       "    .dataframe thead th {\n",
       "        text-align: right;\n",
       "    }\n",
       "</style>\n",
       "<table border=\"1\" class=\"dataframe\">\n",
       "  <thead>\n",
       "    <tr style=\"text-align: right;\">\n",
       "      <th></th>\n",
       "      <th>event</th>\n",
       "      <th>date</th>\n",
       "      <th>importance</th>\n",
       "      <th>category</th>\n",
       "    </tr>\n",
       "  </thead>\n",
       "  <tbody>\n",
       "    <tr>\n",
       "      <th>0</th>\n",
       "      <td>Philip's birth</td>\n",
       "      <td>1921-06-10</td>\n",
       "      <td>1</td>\n",
       "      <td>Prince Philip</td>\n",
       "    </tr>\n",
       "    <tr>\n",
       "      <th>1</th>\n",
       "      <td>Elizabeth's birth</td>\n",
       "      <td>1926-04-21</td>\n",
       "      <td>1</td>\n",
       "      <td>Elizabeth II</td>\n",
       "    </tr>\n",
       "    <tr>\n",
       "      <th>2</th>\n",
       "      <td>Engagement</td>\n",
       "      <td>1947-07-09</td>\n",
       "      <td>3</td>\n",
       "      <td>Both</td>\n",
       "    </tr>\n",
       "    <tr>\n",
       "      <th>3</th>\n",
       "      <td>Wedding</td>\n",
       "      <td>1947-11-20</td>\n",
       "      <td>2</td>\n",
       "      <td>Both</td>\n",
       "    </tr>\n",
       "    <tr>\n",
       "      <th>4</th>\n",
       "      <td>Charles' birth</td>\n",
       "      <td>1948-11-14</td>\n",
       "      <td>1</td>\n",
       "      <td>Both</td>\n",
       "    </tr>\n",
       "  </tbody>\n",
       "</table>\n",
       "</div>"
      ],
      "text/plain": [
       "               event        date  importance       category\n",
       "0     Philip's birth  1921-06-10           1  Prince Philip\n",
       "1  Elizabeth's birth  1926-04-21           1   Elizabeth II\n",
       "2         Engagement  1947-07-09           3           Both\n",
       "3            Wedding  1947-11-20           2           Both\n",
       "4     Charles' birth  1948-11-14           1           Both"
      ]
     },
     "execution_count": 121,
     "metadata": {},
     "output_type": "execute_result"
    }
   ],
   "source": [
    "events_df = pd.read_csv(\"events.csv\")\n",
    "events_df.head()"
   ]
  },
  {
   "cell_type": "code",
   "execution_count": 122,
   "id": "289bcfbb",
   "metadata": {},
   "outputs": [
    {
     "data": {
      "text/plain": [
       "{\"Philip's birth\": {'date': '1921-06-10',\n",
       "  'importance': 1,\n",
       "  'category': 'Prince Philip'},\n",
       " \"Elizabeth's birth\": {'date': '1926-04-21',\n",
       "  'importance': 1,\n",
       "  'category': 'Elizabeth II'},\n",
       " 'Engagement': {'date': '1947-07-09', 'importance': 3, 'category': 'Both'},\n",
       " 'Wedding': {'date': '1947-11-20', 'importance': 2, 'category': 'Both'},\n",
       " \"Charles' birth\": {'date': '1948-11-14', 'importance': 1, 'category': 'Both'},\n",
       " \"Anne's birth\": {'date': '1950-08-15', 'importance': 2, 'category': 'Both'},\n",
       " 'Beginning of reign': {'date': '1952-02-06',\n",
       "  'importance': 1,\n",
       "  'category': 'Both'},\n",
       " 'Coronation': {'date': '1953-06-02', 'importance': 2, 'category': 'Both'},\n",
       " \"Andrew's birth\": {'date': '1960-02-19', 'importance': 2, 'category': 'Both'},\n",
       " \"Edward's birth\": {'date': '1964-03-10', 'importance': 2, 'category': 'Both'},\n",
       " \"Philip's death\": {'date': '2021-04-09',\n",
       "  'importance': 2,\n",
       "  'category': 'Prince Philip'},\n",
       " \"Elizabeth's death\": {'date': '2022-09-08',\n",
       "  'importance': 1,\n",
       "  'category': 'Elizabeth II'}}"
      ]
     },
     "execution_count": 122,
     "metadata": {},
     "output_type": "execute_result"
    }
   ],
   "source": [
    "events = events_df.set_index('event').transpose().to_dict()\n",
    "events"
   ]
  },
  {
   "cell_type": "markdown",
   "id": "1cd8bf57",
   "metadata": {},
   "source": [
    "# 3. Functions"
   ]
  },
  {
   "cell_type": "code",
   "execution_count": 24,
   "id": "4e8d04fb",
   "metadata": {},
   "outputs": [],
   "source": [
    "from datetime import datetime, date, timedelta\n"
   ]
  },
  {
   "cell_type": "code",
   "execution_count": 66,
   "id": "7d3141df",
   "metadata": {},
   "outputs": [],
   "source": [
    "def days_between(d1, d2):\n",
    "    d1 = datetime.strptime(d1, \"%Y-%m-%d\")\n",
    "    d2 = datetime.strptime(d2, \"%Y-%m-%d\")\n",
    "    return abs((d2 - d1).days)\n",
    "\n",
    "def rule_multiple(dt1, dt2, n):\n",
    "    if days_between(dt1.strftime('%Y-%m-%d'), dt2) % n == 0:\n",
    "        return True\n",
    "    else:\n",
    "        return False\n",
    "\n",
    "def anniversary(check_date, event_date):\n",
    "    if check_date.month == event_date.month and check_date.day == event_date.day:\n",
    "        return check_date.year - event_date.year\n",
    "    else:\n",
    "        return None\n"
   ]
  },
  {
   "cell_type": "code",
   "execution_count": 44,
   "id": "04494137",
   "metadata": {},
   "outputs": [],
   "source": [
    "# iterator by date\n",
    "# date format of input args: date(YYYY, MM, DD)\n",
    "def daterange(start_date, end_date):\n",
    "    for n in range(int((end_date - start_date).days)):\n",
    "        yield start_date + timedelta(n)\n"
   ]
  },
  {
   "cell_type": "code",
   "execution_count": 69,
   "id": "83894f09",
   "metadata": {},
   "outputs": [],
   "source": [
    "def range_calendar(dt_start, dt_end):\n",
    "    for dt in daterange(dt_start, dt_end):\n",
    "        for event in events.keys():\n",
    "            if (\n",
    "                (rule_multiple(dt, events[event]['date'], 100) and events[event]['importance'] <= 2)\n",
    "                or\n",
    "                (rule_multiple(dt, events[event]['date'], 1000) and events[event]['importance'] == 3)\n",
    "            ):\n",
    "                print(\"{} -- {} days since {}\".format(dt, days_between(dt.strftime('%Y-%m-%d'), events[event]['date']), event))\n",
    "            if anniversary(dt, datetime.strptime(events[event]['date'], \"%Y-%m-%d\")):\n",
    "                print(\"{} -- {} years since {}\".format(dt, anniversary(dt, datetime.strptime(events[event]['date'], \"%Y-%m-%d\")), event))\n",
    "            \n"
   ]
  },
  {
   "cell_type": "code",
   "execution_count": 131,
   "id": "6f18e448",
   "metadata": {},
   "outputs": [],
   "source": [
    "def age_counter(birthday_dt_1, birthday_dt_2, given_dt):\n",
    "    print(\"Age difference: {} days\".format(days_between(birthday_dt_1, birthday_dt_2)))\n",
    "    print(\"Elizabeth II age: {} days\".format(days_between(given_dt, birthday_dt_1)))\n",
    "    print(\"Prince Philip age: {} days\".format(days_between(given_dt, birthday_dt_2)))\n",
    "    print(\"Total age: {} days\".format(days_between(given_dt, birthday_dt_2) + days_between(given_dt, birthday_dt_1)))\n",
    "\n",
    "def total_age_anniversaries(birthday_dt_1, birthday_dt_2, start_dt, end_dt):\n",
    "    for dt in daterange(datetime.strptime(start_dt, \"%Y-%m-%d\"), datetime.strptime(end_dt, \"%Y-%m-%d\")):\n",
    "        if (\n",
    "            (days_between(dt.strftime('%Y-%m-%d'), birthday_dt_1) + days_between(dt.strftime('%Y-%m-%d'), birthday_dt_2)) % 1000 == 0\n",
    "            or \n",
    "            (days_between(dt.strftime('%Y-%m-%d'), birthday_dt_1) + days_between(dt.strftime('%Y-%m-%d'), birthday_dt_2)) % 1000 == 1\n",
    "        ):\n",
    "            print(\"{} -- {} days of their combined age\".format(dt.strftime('%Y-%m-%d'), \n",
    "                                                               days_between(dt.strftime('%Y-%m-%d'), birthday_dt_1) + days_between(dt.strftime('%Y-%m-%d'), birthday_dt_2)\n",
    "                                                              ))\n",
    "\n",
    "def differences_inside_set(events):\n",
    "    for event1 in events.keys():\n",
    "        for event2 in events.keys():\n",
    "            if days_between(events[event1]['date'], events[event2]['date']) % 100 == 0 and event1 != event2 and events[event1]['date'] < events[event2]['date']:\n",
    "                print(\"{} days between {} and {}\".format(days_between(events[event1]['date'], events[event2]['date']), event1, event2))\n"
   ]
  },
  {
   "cell_type": "markdown",
   "id": "013c5511",
   "metadata": {},
   "source": [
    "# 4. Performing"
   ]
  },
  {
   "cell_type": "code",
   "execution_count": 99,
   "id": "4f431f54",
   "metadata": {},
   "outputs": [
    {
     "name": "stdout",
     "output_type": "stream",
     "text": [
      "Today is...\n",
      "37236 days since Philip's birth\n",
      "35460 days since Elizabeth's birth\n",
      "27711 days since Engagement\n",
      "27577 days since Wedding\n",
      "27217 days since Charles' birth\n",
      "26578 days since Anne's birth\n",
      "26038 days since Beginning of reign\n",
      "25556 days since Coronation\n",
      "23103 days since Andrew's birth\n",
      "21622 days since Edward's birth\n",
      "773 days since Philip's death\n",
      "256 days since Elizabeth's death\n"
     ]
    }
   ],
   "source": [
    "print(\"Today is...\")\n",
    "for event in events.keys():\n",
    "    print(\"{} days since {}\".format(days_between(TODAY_DT, events[event]['date']), event))\n"
   ]
  },
  {
   "cell_type": "code",
   "execution_count": 100,
   "id": "6fb2d813",
   "metadata": {},
   "outputs": [
    {
     "name": "stdout",
     "output_type": "stream",
     "text": [
      "2023-06-02 -- 70 years since Coronation\n",
      "2023-06-10 -- 102 years since Philip's birth\n",
      "2023-06-13 -- 26600 days since Anne's birth\n",
      "2023-06-14 -- 27600 days since Wedding\n",
      "2023-06-18 -- 800 days since Philip's death\n",
      "2023-07-01 -- 35500 days since Elizabeth's birth\n",
      "2023-07-05 -- 25600 days since Coronation\n",
      "2023-07-05 -- 300 days since Elizabeth's death\n",
      "2023-07-09 -- 76 years since Engagement\n",
      "2023-07-23 -- 26100 days since Beginning of reign\n",
      "2023-07-25 -- 37300 days since Philip's birth\n",
      "2023-08-08 -- 21700 days since Edward's birth\n",
      "2023-08-13 -- 27300 days since Charles' birth\n",
      "2023-08-15 -- 73 years since Anne's birth\n",
      "2023-08-27 -- 23200 days since Andrew's birth\n",
      "2023-09-08 -- 1 years since Elizabeth's death\n",
      "2023-09-21 -- 26700 days since Anne's birth\n",
      "2023-09-22 -- 27700 days since Wedding\n",
      "2023-09-26 -- 900 days since Philip's death\n",
      "2023-10-09 -- 35600 days since Elizabeth's birth\n",
      "2023-10-13 -- 25700 days since Coronation\n",
      "2023-10-13 -- 400 days since Elizabeth's death\n",
      "2023-10-31 -- 26200 days since Beginning of reign\n",
      "2023-11-02 -- 37400 days since Philip's birth\n",
      "2023-11-14 -- 75 years since Charles' birth\n",
      "2023-11-16 -- 21800 days since Edward's birth\n",
      "2023-11-20 -- 76 years since Wedding\n",
      "2023-11-21 -- 27400 days since Charles' birth\n",
      "2023-12-05 -- 23300 days since Andrew's birth\n",
      "2023-12-30 -- 26800 days since Anne's birth\n"
     ]
    }
   ],
   "source": [
    "range_calendar(date.today(), date(2023, 12, 31))\n"
   ]
  },
  {
   "cell_type": "code",
   "execution_count": null,
   "id": "a08071a0",
   "metadata": {},
   "outputs": [],
   "source": []
  },
  {
   "cell_type": "code",
   "execution_count": 129,
   "id": "9441a980",
   "metadata": {},
   "outputs": [],
   "source": [
    "birthday_dt_1 = events[\"Elizabeth's birth\"]['date']\n",
    "birthday_dt_2 = events[\"Philip's birth\"]['date']\n",
    "given_dt = events[\"Philip's death\"]['date']\n"
   ]
  },
  {
   "cell_type": "code",
   "execution_count": 130,
   "id": "1f07a9cb",
   "metadata": {},
   "outputs": [
    {
     "name": "stdout",
     "output_type": "stream",
     "text": [
      "Age difference: 1776 days\n",
      "Elizabeth II age: 34687 days\n",
      "Prince Philip age: 36463 days\n",
      "Total age: 71150 days\n"
     ]
    }
   ],
   "source": [
    "age_counter(birthday_dt_1, birthday_dt_2, given_dt)\n"
   ]
  },
  {
   "cell_type": "code",
   "execution_count": 128,
   "id": "1529482a",
   "metadata": {},
   "outputs": [
    {
     "name": "stdout",
     "output_type": "stream",
     "text": [
      "1948-07-06 -- 18000 days of their combined age\n",
      "1949-11-18 -- 19000 days of their combined age\n",
      "1951-04-02 -- 20000 days of their combined age\n",
      "1952-08-14 -- 21000 days of their combined age\n",
      "1953-12-27 -- 22000 days of their combined age\n",
      "1955-05-11 -- 23000 days of their combined age\n",
      "1956-09-22 -- 24000 days of their combined age\n",
      "1958-02-04 -- 25000 days of their combined age\n",
      "1959-06-19 -- 26000 days of their combined age\n",
      "1960-10-31 -- 27000 days of their combined age\n",
      "1962-03-15 -- 28000 days of their combined age\n",
      "1963-07-28 -- 29000 days of their combined age\n",
      "1964-12-09 -- 30000 days of their combined age\n",
      "1966-04-23 -- 31000 days of their combined age\n",
      "1967-09-05 -- 32000 days of their combined age\n",
      "1969-01-17 -- 33000 days of their combined age\n",
      "1970-06-01 -- 34000 days of their combined age\n",
      "1971-10-14 -- 35000 days of their combined age\n",
      "1973-02-25 -- 36000 days of their combined age\n",
      "1974-07-10 -- 37000 days of their combined age\n",
      "1975-11-22 -- 38000 days of their combined age\n",
      "1977-04-05 -- 39000 days of their combined age\n",
      "1978-08-18 -- 40000 days of their combined age\n",
      "1979-12-31 -- 41000 days of their combined age\n",
      "1981-05-14 -- 42000 days of their combined age\n",
      "1982-09-26 -- 43000 days of their combined age\n",
      "1984-02-08 -- 44000 days of their combined age\n",
      "1985-06-22 -- 45000 days of their combined age\n",
      "1986-11-04 -- 46000 days of their combined age\n",
      "1988-03-18 -- 47000 days of their combined age\n",
      "1989-07-31 -- 48000 days of their combined age\n",
      "1990-12-13 -- 49000 days of their combined age\n",
      "1992-04-26 -- 50000 days of their combined age\n",
      "1993-09-08 -- 51000 days of their combined age\n",
      "1995-01-21 -- 52000 days of their combined age\n",
      "1996-06-04 -- 53000 days of their combined age\n",
      "1997-10-17 -- 54000 days of their combined age\n",
      "1999-03-01 -- 55000 days of their combined age\n",
      "2000-07-13 -- 56000 days of their combined age\n",
      "2001-11-25 -- 57000 days of their combined age\n",
      "2003-04-09 -- 58000 days of their combined age\n",
      "2004-08-21 -- 59000 days of their combined age\n",
      "2006-01-03 -- 60000 days of their combined age\n",
      "2007-05-18 -- 61000 days of their combined age\n",
      "2008-09-29 -- 62000 days of their combined age\n",
      "2010-02-11 -- 63000 days of their combined age\n",
      "2011-06-26 -- 64000 days of their combined age\n",
      "2012-11-07 -- 65000 days of their combined age\n",
      "2014-03-22 -- 66000 days of their combined age\n",
      "2015-08-04 -- 67000 days of their combined age\n",
      "2016-12-16 -- 68000 days of their combined age\n",
      "2018-04-30 -- 69000 days of their combined age\n",
      "2019-09-12 -- 70000 days of their combined age\n",
      "2021-01-24 -- 71000 days of their combined age\n"
     ]
    }
   ],
   "source": [
    "total_age_anniversaries(birthday_dt_1, birthday_dt_2, events['Engagement']['date'], events[\"Philip's death\"]['date'])\n"
   ]
  },
  {
   "cell_type": "code",
   "execution_count": 132,
   "id": "31d0dc5f",
   "metadata": {},
   "outputs": [
    {
     "name": "stdout",
     "output_type": "stream",
     "text": [
      "25300 days between Coronation and Elizabeth's death\n"
     ]
    }
   ],
   "source": [
    "differences_inside_set(events)"
   ]
  },
  {
   "cell_type": "code",
   "execution_count": null,
   "id": "cb9e1a5f",
   "metadata": {},
   "outputs": [],
   "source": []
  },
  {
   "cell_type": "code",
   "execution_count": null,
   "id": "8b5063c2",
   "metadata": {},
   "outputs": [],
   "source": []
  },
  {
   "cell_type": "code",
   "execution_count": null,
   "id": "fd4bd408",
   "metadata": {},
   "outputs": [],
   "source": []
  }
 ],
 "metadata": {
  "kernelspec": {
   "display_name": "Python 3 (ipykernel)",
   "language": "python",
   "name": "python3"
  },
  "language_info": {
   "codemirror_mode": {
    "name": "ipython",
    "version": 3
   },
   "file_extension": ".py",
   "mimetype": "text/x-python",
   "name": "python",
   "nbconvert_exporter": "python",
   "pygments_lexer": "ipython3",
   "version": "3.11.1"
  }
 },
 "nbformat": 4,
 "nbformat_minor": 5
}
