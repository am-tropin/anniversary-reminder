{
 "cells": [
  {
   "cell_type": "code",
   "execution_count": 6,
   "id": "608eb473",
   "metadata": {},
   "outputs": [],
   "source": [
    "import pytest"
   ]
  },
  {
   "cell_type": "code",
   "execution_count": 15,
   "id": "c4bf99d5",
   "metadata": {},
   "outputs": [],
   "source": [
    "from datetime import datetime"
   ]
  },
  {
   "cell_type": "code",
   "execution_count": 16,
   "id": "cf18631f",
   "metadata": {},
   "outputs": [],
   "source": [
    "import sys\n",
    "sys.path.append('../')\n",
    "from functions.functions_store import stod, daterange\n",
    "from functions.functions_store import check_roundness, check_same_digits, check_palindrome, check_monotonous, check_power_of_2\n",
    "from functions.functions_store import rule_anniversary, rule_days_divisibility, rule_weeks_divisibility\n",
    "# from functions.functions_store import some_day_counter, range_calendar, internal_counter, announcement_upcoming_month\n"
   ]
  },
  {
   "cell_type": "code",
   "execution_count": null,
   "id": "f9a4767d",
   "metadata": {},
   "outputs": [],
   "source": []
  },
  {
   "cell_type": "code",
   "execution_count": null,
   "id": "0a708389",
   "metadata": {},
   "outputs": [],
   "source": [
    "# depend on ../event.csv:\n",
    "\n",
    "# event_dict\n",
    "# birth_dates\n",
    "# total_age\n",
    "\n",
    "# some_day_counter\n",
    "# range_calendar\n",
    "# internal_counter\n",
    "\n",
    "\n",
    "# depend on other functions:\n",
    "\n",
    "# rule_days_divisibility\n",
    "# rule_weeks_divisibility\n",
    "\n",
    "# some_day_counter\n",
    "# range_calendar\n",
    "# internal_counter"
   ]
  },
  {
   "cell_type": "code",
   "execution_count": 9,
   "id": "ce54a6e7",
   "metadata": {},
   "outputs": [],
   "source": [
    "def test_for_corr_stod():\n",
    "    assert stod(\"2023-05-30\") == datetime(year=2023, month=5, day=30).date()\n",
    "    \n",
    "def test_for_incorr_stod():\n",
    "    with pytest.raises(ValueError, match=\"Incorrect data format, should be YYYY-MM-DD\"):\n",
    "        stod(\"202-05-30\")"
   ]
  },
  {
   "cell_type": "code",
   "execution_count": 17,
   "id": "42defc20",
   "metadata": {},
   "outputs": [],
   "source": [
    "def test_for_corr_daterange():\n",
    "    assert list(daterange(datetime(year=2023, month=5, day=30).date(), datetime(year=2023, month=6, day=1).date())) == [\n",
    "        datetime(year=2023, month=5, day=30).date(), \n",
    "        datetime(year=2023, month=5, day=31).date(), \n",
    "        datetime(year=2023, month=6, day=1).date()]\n"
   ]
  },
  {
   "cell_type": "code",
   "execution_count": null,
   "id": "95820354",
   "metadata": {},
   "outputs": [],
   "source": [
    "def test_for_1_check_roundness():\n",
    "    assert check_roundness(2000, 2, 2) is True\n",
    "\n",
    "def test_for_2_check_roundness():\n",
    "    assert check_roundness(1200, 2, 2) is False\n",
    "\n",
    "def test_for_3_check_roundness():\n",
    "    assert check_roundness(200, 2, 2) is True\n",
    "\n",
    "def test_for_4_check_roundness():\n",
    "    assert check_roundness(200, 3, 2) is False\n",
    "\n",
    "def test_for_5_check_roundness():\n",
    "    assert check_roundness(201, 2, 3) is False\n",
    "\n",
    "def test_for_valuerror_check_roundness():\n",
    "    with pytest.raises(ValueError, match=\"Incorrect data format of importance, should be in 1, 2 or 3.\"):\n",
    "        check_roundness(500, 0, 2)\n"
   ]
  },
  {
   "cell_type": "code",
   "execution_count": 7,
   "id": "0dd33de6",
   "metadata": {},
   "outputs": [],
   "source": [
    "def test_for_long_same_digits():\n",
    "    assert check_same_digits(111) is True\n",
    "    \n",
    "def test_for_short_same_digits():\n",
    "    assert check_same_digits(11) is False\n",
    "    \n",
    "def test_for_var_same_digits():\n",
    "    assert check_same_digits(112) is False"
   ]
  },
  {
   "cell_type": "code",
   "execution_count": null,
   "id": "7ac3ed83",
   "metadata": {},
   "outputs": [],
   "source": [
    "def test_for_long_palindrome():\n",
    "    assert check_palindrome(1221) is True\n",
    "    \n",
    "def test_for_short_palindrome():\n",
    "    assert check_palindrome(121) is False\n",
    "    \n",
    "def test_for_var_palindrome():\n",
    "    assert check_palindrome(1231) is False\n"
   ]
  },
  {
   "cell_type": "code",
   "execution_count": null,
   "id": "d8b374f1",
   "metadata": {},
   "outputs": [],
   "source": [
    "def test_for_incr_monotonous():\n",
    "    assert check_monotonous(1234) is True\n",
    "    \n",
    "def test_for_decr_monotonous():\n",
    "    assert check_monotonous(543) is True\n",
    "    \n",
    "def test_for_no_monotonous():\n",
    "    assert check_monotonous(103) is False\n",
    "    \n",
    "def test_for_dupl_monotonous():\n",
    "    assert check_monotonous(1223) is False\n"
   ]
  },
  {
   "cell_type": "code",
   "execution_count": null,
   "id": "f319f8ca",
   "metadata": {},
   "outputs": [],
   "source": [
    "def test_for_corr_power_of_2():\n",
    "    assert check_power_of_2(32) is True\n",
    "    \n",
    "def test_for_incorr_power_of_2():\n",
    "    assert check_power_of_2(33) is False\n",
    "\n",
    "def test_for_small_power_of_2():\n",
    "    assert check_power_of_2(16) is False\n",
    "    "
   ]
  },
  {
   "cell_type": "code",
   "execution_count": null,
   "id": "3389b046",
   "metadata": {},
   "outputs": [],
   "source": [
    "def test_for_corr_rule_anniversary():\n",
    "    assert rule_anniversary(datetime(year=2023, month=5, day=30).date(), datetime(year=2024, month=5, day=30).date()) == 1\n",
    "\n",
    "def test_for_same_rule_anniversary():\n",
    "    assert rule_anniversary(datetime(year=2023, month=5, day=30).date(), datetime(year=2023, month=5, day=30).date()) is None\n",
    "\n",
    "def test_for_past_rule_anniversary():\n",
    "    assert rule_anniversary(datetime(year=2023, month=5, day=30).date(), datetime(year=2022, month=5, day=30).date()) is None\n",
    "\n",
    "def test_for_not_rule_anniversary():\n",
    "    assert rule_anniversary(datetime(year=2023, month=5, day=30).date(), datetime(year=2024, month=5, day=31).date()) is None\n"
   ]
  },
  {
   "cell_type": "code",
   "execution_count": null,
   "id": "79bec3c8",
   "metadata": {},
   "outputs": [],
   "source": [
    "def test_for_past_rule_days_divisibility():\n",
    "    assert rule_days_divisibility(datetime(year=2023, month=5, day=30).date(), datetime(year=2022, month=7, day=31).date(), 2) is None\n",
    "\n",
    "# def test_for_corr_rule_days_divisibility():\n",
    "#     assert rule_days_divisibility(datetime(year=2023, month=5, day=30).date(), datetime(year=2023, month=7, day=31).date(), 2) == 1\n",
    "\n",
    "# def test_for_same_rule_days_divisibility():\n",
    "#     assert rule_days_divisibility(datetime(year=2023, month=5, day=30).date(), datetime(year=2023, month=7, day=31).date()) is None\n",
    "\n",
    "# def test_for_not_rule_days_divisibility():\n",
    "#     assert rule_days_divisibility(datetime(year=2023, month=5, day=30).date(), datetime(year=2024, month=7, day=31).date()) is None\n"
   ]
  },
  {
   "cell_type": "code",
   "execution_count": null,
   "id": "88e91079",
   "metadata": {},
   "outputs": [],
   "source": [
    "def test_for_past_rule_weeks_divisibility():\n",
    "    assert rule_weeks_divisibility(datetime(year=2023, month=5, day=30).date(), datetime(year=2022, month=7, day=31).date(), 2) is None\n",
    "\n"
   ]
  },
  {
   "cell_type": "code",
   "execution_count": null,
   "id": "9d946eca",
   "metadata": {},
   "outputs": [],
   "source": []
  },
  {
   "cell_type": "code",
   "execution_count": null,
   "id": "28bf1420",
   "metadata": {},
   "outputs": [],
   "source": []
  },
  {
   "cell_type": "code",
   "execution_count": null,
   "id": "ca481067",
   "metadata": {},
   "outputs": [],
   "source": []
  },
  {
   "cell_type": "code",
   "execution_count": null,
   "id": "ae2b74ab",
   "metadata": {},
   "outputs": [],
   "source": []
  }
 ],
 "metadata": {
  "kernelspec": {
   "display_name": "Python 3 (ipykernel)",
   "language": "python",
   "name": "python3"
  },
  "language_info": {
   "codemirror_mode": {
    "name": "ipython",
    "version": 3
   },
   "file_extension": ".py",
   "mimetype": "text/x-python",
   "name": "python",
   "nbconvert_exporter": "python",
   "pygments_lexer": "ipython3",
   "version": "3.11.1"
  }
 },
 "nbformat": 4,
 "nbformat_minor": 5
}
