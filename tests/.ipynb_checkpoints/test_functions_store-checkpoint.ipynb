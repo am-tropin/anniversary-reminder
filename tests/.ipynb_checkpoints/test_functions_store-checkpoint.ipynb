{
 "cells": [
  {
   "cell_type": "code",
   "execution_count": 6,
   "id": "608eb473",
   "metadata": {},
   "outputs": [],
   "source": [
    "import pytest"
   ]
  },
  {
   "cell_type": "code",
   "execution_count": 10,
   "id": "c4bf99d5",
   "metadata": {},
   "outputs": [],
   "source": [
    "from datetime import datetime\n",
    "import pandas as pd"
   ]
  },
  {
   "cell_type": "code",
   "execution_count": 1,
   "id": "cf18631f",
   "metadata": {},
   "outputs": [],
   "source": [
    "import sys\n",
    "sys.path.append('../')\n",
    "from functions.functions_store import stod, daterange\n",
    "from functions.functions_store import check_roundness, check_same_digits, check_palindrome, check_monotonous, check_power_of_2\n",
    "from functions.functions_store import rule_anniversary, rule_days_divisibility, rule_weeks_divisibility\n",
    "# from functions.functions_store import event_dict, birth_dates, total_age\n",
    "from functions.functions_store import date_dict_to_df\n",
    "# from functions.functions_store import some_day_counter, range_calendar, internal_counter, \n",
    "# from functions.functions_store import announcement_upcoming_month\n"
   ]
  },
  {
   "cell_type": "code",
   "execution_count": null,
   "id": "f9a4767d",
   "metadata": {},
   "outputs": [],
   "source": []
  },
  {
   "cell_type": "code",
   "execution_count": null,
   "id": "0a708389",
   "metadata": {},
   "outputs": [],
   "source": [
    "# depend on ../event.csv:\n",
    "# event_dict\n",
    "# birth_dates\n",
    "# total_age\n",
    "\n",
    "\n",
    "# depend on announcement_monthly.txt:\n",
    "# announcement_upcoming_month\n",
    "\n",
    "\n",
    "# depend on other functions:\n",
    "\n",
    "# rule_days_divisibility\n",
    "# rule_weeks_divisibility\n",
    "\n",
    "# some_day_counter\n",
    "# range_calendar\n",
    "# internal_counter"
   ]
  },
  {
   "cell_type": "code",
   "execution_count": 9,
   "id": "ce54a6e7",
   "metadata": {},
   "outputs": [],
   "source": [
    "def test_for_corr_stod():\n",
    "    assert stod(\"2023-05-30\") == datetime(year=2023, month=5, day=30).date()\n",
    "    \n",
    "def test_for_incorr_stod():\n",
    "    with pytest.raises(ValueError, match=\"Incorrect data format, should be YYYY-MM-DD\"):\n",
    "        stod(\"202-05-30\")"
   ]
  },
  {
   "cell_type": "code",
   "execution_count": 17,
   "id": "42defc20",
   "metadata": {},
   "outputs": [],
   "source": [
    "def test_for_corr_daterange():\n",
    "    assert list(daterange(datetime(year=2023, month=5, day=30).date(), datetime(year=2023, month=6, day=1).date())) == [\n",
    "        datetime(year=2023, month=5, day=30).date(), \n",
    "        datetime(year=2023, month=5, day=31).date(), \n",
    "        datetime(year=2023, month=6, day=1).date()]\n"
   ]
  },
  {
   "cell_type": "code",
   "execution_count": null,
   "id": "95820354",
   "metadata": {},
   "outputs": [],
   "source": [
    "def test_for_1_check_roundness():\n",
    "    assert check_roundness(2000, 2, 2) is True\n",
    "\n",
    "def test_for_2_check_roundness():\n",
    "    assert check_roundness(1200, 2, 2) is False\n",
    "\n",
    "def test_for_3_check_roundness():\n",
    "    assert check_roundness(200, 2, 2) is True\n",
    "\n",
    "def test_for_4_check_roundness():\n",
    "    assert check_roundness(200, 3, 2) is False\n",
    "\n",
    "def test_for_5_check_roundness():\n",
    "    assert check_roundness(201, 2, 3) is False\n",
    "\n",
    "def test_for_valuerror_check_roundness():\n",
    "    with pytest.raises(ValueError, match=\"Incorrect data format of importance, should be in 1, 2 or 3.\"):\n",
    "        check_roundness(500, 0, 2)\n"
   ]
  },
  {
   "cell_type": "code",
   "execution_count": 7,
   "id": "0dd33de6",
   "metadata": {},
   "outputs": [],
   "source": [
    "def test_for_long_same_digits():\n",
    "    assert check_same_digits(111) is True\n",
    "    \n",
    "def test_for_short_same_digits():\n",
    "    assert check_same_digits(11) is False\n",
    "    \n",
    "def test_for_var_same_digits():\n",
    "    assert check_same_digits(112) is False"
   ]
  },
  {
   "cell_type": "code",
   "execution_count": null,
   "id": "7ac3ed83",
   "metadata": {},
   "outputs": [],
   "source": [
    "def test_for_long_palindrome():\n",
    "    assert check_palindrome(1221) is True\n",
    "    \n",
    "def test_for_short_palindrome():\n",
    "    assert check_palindrome(121) is False\n",
    "    \n",
    "def test_for_var_palindrome():\n",
    "    assert check_palindrome(1231) is False\n"
   ]
  },
  {
   "cell_type": "code",
   "execution_count": null,
   "id": "d8b374f1",
   "metadata": {},
   "outputs": [],
   "source": [
    "def test_for_incr_monotonous():\n",
    "    assert check_monotonous(1234) is True\n",
    "    \n",
    "def test_for_decr_monotonous():\n",
    "    assert check_monotonous(543) is True\n",
    "    \n",
    "def test_for_no_monotonous():\n",
    "    assert check_monotonous(103) is False\n",
    "    \n",
    "def test_for_dupl_monotonous():\n",
    "    assert check_monotonous(1223) is False\n"
   ]
  },
  {
   "cell_type": "code",
   "execution_count": null,
   "id": "f319f8ca",
   "metadata": {},
   "outputs": [],
   "source": [
    "def test_for_corr_power_of_2():\n",
    "    assert check_power_of_2(32) is True\n",
    "    \n",
    "def test_for_incorr_power_of_2():\n",
    "    assert check_power_of_2(33) is False\n",
    "\n",
    "def test_for_small_power_of_2():\n",
    "    assert check_power_of_2(16) is False\n",
    "    "
   ]
  },
  {
   "cell_type": "code",
   "execution_count": null,
   "id": "3389b046",
   "metadata": {},
   "outputs": [],
   "source": [
    "def test_for_corr_rule_anniversary():\n",
    "    assert rule_anniversary(datetime(year=2023, month=5, day=30).date(), datetime(year=2024, month=5, day=30).date()) == 1\n",
    "\n",
    "def test_for_same_rule_anniversary():\n",
    "    assert rule_anniversary(datetime(year=2023, month=5, day=30).date(), datetime(year=2023, month=5, day=30).date()) is None\n",
    "\n",
    "def test_for_past_rule_anniversary():\n",
    "    assert rule_anniversary(datetime(year=2023, month=5, day=30).date(), datetime(year=2022, month=5, day=30).date()) is None\n",
    "\n",
    "def test_for_not_rule_anniversary():\n",
    "    assert rule_anniversary(datetime(year=2023, month=5, day=30).date(), datetime(year=2024, month=5, day=31).date()) is None\n"
   ]
  },
  {
   "cell_type": "code",
   "execution_count": null,
   "id": "79bec3c8",
   "metadata": {},
   "outputs": [],
   "source": [
    "def test_for_past_rule_days_divisibility():\n",
    "    assert rule_days_divisibility(datetime(year=2023, month=5, day=30).date(), datetime(year=2022, month=7, day=31).date(), 2) is None\n",
    "\n",
    "def test_for_f10_rule_days_divisibility():\n",
    "    assert rule_days_divisibility(datetime(year=2023, month=5, day=30).date(), datetime(year=2023, month=7, day=31).date(), 2) == [None, 62][check_roundness(62, 2, 2)]\n",
    "\n",
    "def test_for_f11_rule_days_divisibility():\n",
    "    assert rule_days_divisibility(datetime(year=2023, month=5, day=30).date(), datetime(year=2024, month=3, day=25).date(), 2) == [None, 300][check_roundness(300, 2, 2)]\n",
    "\n",
    "def test_for_f20_rule_days_divisibility():\n",
    "    assert rule_days_divisibility(datetime(year=2023, month=5, day=30).date(), datetime(year=2023, month=7, day=31).date(), 2) == [None, 62][check_same_digits(62)]\n",
    "\n",
    "def test_for_f21_rule_days_divisibility():\n",
    "    assert rule_days_divisibility(datetime(year=2023, month=5, day=30).date(), datetime(year=2023, month=9, day=18).date(), 2) == [None, 111][check_same_digits(111)]\n",
    "\n",
    "def test_for_f30_rule_days_divisibility():\n",
    "    assert rule_days_divisibility(datetime(year=2023, month=5, day=30).date(), datetime(year=2023, month=7, day=31).date(), 2) == [None, 62][check_monotonous(62)]\n",
    "\n",
    "def test_for_f31_rule_days_divisibility():\n",
    "    assert rule_days_divisibility(datetime(year=2023, month=5, day=30).date(), datetime(year=2023, month=9, day=30).date(), 2) == [None, 123][check_monotonous(123)]\n",
    "\n",
    "def test_for_f40_rule_days_divisibility():\n",
    "    assert rule_days_divisibility(datetime(year=2023, month=5, day=30).date(), datetime(year=2023, month=7, day=31).date(), 2) == [None, 62][check_power_of_2(62)]\n",
    "\n",
    "def test_for_f41_rule_days_divisibility():\n",
    "    assert rule_days_divisibility(datetime(year=2023, month=5, day=30).date(), datetime(year=2023, month=8, day=2).date(), 2) == [None, 64][check_power_of_2(64)]\n"
   ]
  },
  {
   "cell_type": "code",
   "execution_count": null,
   "id": "701cd3b6",
   "metadata": {},
   "outputs": [],
   "source": [
    "def test_for_past_rule_weeks_divisibility():\n",
    "    assert rule_weeks_divisibility(datetime(year=2023, month=5, day=30).date(), datetime(year=2022, month=7, day=31).date(), 2) is None\n",
    "\n",
    "def test_for_f10_rule_weeks_divisibility():\n",
    "    assert rule_weeks_divisibility(datetime(year=2023, month=5, day=30).date(), datetime(year=2023, month=7, day=31).date(), 2) == None # 62, check_roundness\n",
    "\n",
    "def test_for_f11_rule_weeks_divisibility():\n",
    "    assert rule_weeks_divisibility(datetime(year=2023, month=5, day=30).date(), datetime(year=2023, month=8, day=8).date(), 2) == 10 # 70, check_roundness\n",
    "\n",
    "# def test_for_f20_rule_weeks_divisibility():\n",
    "#     assert rule_weeks_divisibility(datetime(year=2023, month=5, day=30).date(), datetime(year=2023, month=7, day=31).date(), 2) == None # 62, check_same_digits\n",
    "\n",
    "def test_for_f21_rule_weeks_divisibility():\n",
    "    assert rule_weeks_divisibility(datetime(year=2023, month=5, day=30).date(), datetime(year=2025, month=7, day=15).date(), 2) == 111 # 777, check_same_digits\n",
    "\n",
    "# def test_for_f30_rule_weeks_divisibility():\n",
    "#     assert rule_weeks_divisibility(datetime(year=2023, month=5, day=30).date(), datetime(year=2023, month=7, day=31).date(), 2) == None # 62, check_monotonous\n",
    "\n",
    "def test_for_f31_rule_weeks_divisibility():\n",
    "    assert rule_weeks_divisibility(datetime(year=2023, month=5, day=30).date(), datetime(year=2025, month=10, day=7).date(), 2) == 123 # 861, check_monotonous\n",
    "\n",
    "# def test_for_f40_rule_weeks_divisibility():\n",
    "#     assert rule_weeks_divisibility(datetime(year=2023, month=5, day=30).date(), datetime(year=2023, month=7, day=31).date(), 2) == None # 62, check_power_of_2\n",
    "\n",
    "def test_for_f41_rule_weeks_divisibility():\n",
    "    assert rule_weeks_divisibility(datetime(year=2023, month=5, day=30).date(), datetime(year=2024, month=1, day=9).date(), 2) == 32 # 224, check_power_of_2\n"
   ]
  },
  {
   "cell_type": "code",
   "execution_count": 2,
   "id": "88e91079",
   "metadata": {},
   "outputs": [],
   "source": [
    "def test_for_notempty_date_dict_to_df():\n",
    "    dict_1 = {'date': datetime(year=2023, month=5, day=29).date(),\n",
    "              'event': 'event 1', \n",
    "              'amount': 5, \n",
    "              'unit': 'day'}\n",
    "    df_1 = pd.DataFrame.from_dict(dict_1, orient='index').transpose()\n",
    "    dict_2 = {'date': \"2023-05-31\",\n",
    "                 'event': 'event 3', \n",
    "                 'amount': 32, \n",
    "                 'unit': 'day'}\n",
    "    df_2 = pd.DataFrame.from_dict(dict_2, orient='index').transpose()\n",
    "    assert pd.testing.assert_frame_equal(date_dict_to_df(df_1, datetime(year=2023, month=5, day=31).date(), 'event 3', 32, 'day'), pd.concat([df_1, df_2]).reset_index(drop=True)) is None\n",
    "\n",
    "    \n",
    "def test_for_empty_date_dict_to_df():\n",
    "    null_df = pd.DataFrame(columns=['date', 'event', 'amount', 'unit'])\n",
    "    dict_2 = {'date': \"2023-05-31\",\n",
    "                 'event': 'event 3', \n",
    "                 'amount': 32, \n",
    "                 'unit': 'day'}\n",
    "    df_2 = pd.DataFrame.from_dict(dict_2, orient='index').transpose()\n",
    "    assert pd.testing.assert_frame_equal(date_dict_to_df(null_df, datetime(year=2023, month=5, day=31).date(), 'event 3', 32, 'day'), df_2) is None\n",
    "\n",
    "    "
   ]
  },
  {
   "cell_type": "code",
   "execution_count": null,
   "id": "57792ab2",
   "metadata": {},
   "outputs": [],
   "source": []
  },
  {
   "cell_type": "code",
   "execution_count": null,
   "id": "aecc0348",
   "metadata": {},
   "outputs": [],
   "source": []
  },
  {
   "cell_type": "code",
   "execution_count": null,
   "id": "8e5a6f1e",
   "metadata": {},
   "outputs": [],
   "source": []
  }
 ],
 "metadata": {
  "kernelspec": {
   "display_name": "Python 3 (ipykernel)",
   "language": "python",
   "name": "python3"
  },
  "language_info": {
   "codemirror_mode": {
    "name": "ipython",
    "version": 3
   },
   "file_extension": ".py",
   "mimetype": "text/x-python",
   "name": "python",
   "nbconvert_exporter": "python",
   "pygments_lexer": "ipython3",
   "version": "3.11.1"
  }
 },
 "nbformat": 4,
 "nbformat_minor": 5
}
