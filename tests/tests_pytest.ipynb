{
 "cells": [
  {
   "cell_type": "code",
   "execution_count": 2,
   "id": "608eb473",
   "metadata": {},
   "outputs": [],
   "source": [
    "import pytest"
   ]
  },
  {
   "cell_type": "code",
   "execution_count": 6,
   "id": "cf18631f",
   "metadata": {},
   "outputs": [],
   "source": [
    "from functions_store import check_same_digits, check_palindrome, check_monotonous, check_power_of_2"
   ]
  },
  {
   "cell_type": "code",
   "execution_count": null,
   "id": "f9a4767d",
   "metadata": {},
   "outputs": [],
   "source": []
  },
  {
   "cell_type": "code",
   "execution_count": null,
   "id": "0dd33de6",
   "metadata": {},
   "outputs": [],
   "source": [
    "def test_for_long_same_digits():\n",
    "    assert check_same_digits(111) is True\n",
    "    \n",
    "def test_for_short_same_digits():\n",
    "    assert check_same_digits(11) is False\n",
    "    \n",
    "def test_for_var_same_digits():\n",
    "    assert check_same_digits(112) is False"
   ]
  },
  {
   "cell_type": "code",
   "execution_count": null,
   "id": "7ac3ed83",
   "metadata": {},
   "outputs": [],
   "source": [
    "def test_for_long_palindrome():\n",
    "    assert check_palindrome(1221) is True\n",
    "    \n",
    "def test_for_short_palindrome():\n",
    "    assert check_palindrome(121) is False\n",
    "    \n",
    "def test_for_var_palindrome():\n",
    "    assert check_palindrome(1231) is False\n"
   ]
  },
  {
   "cell_type": "code",
   "execution_count": null,
   "id": "d8b374f1",
   "metadata": {},
   "outputs": [],
   "source": [
    "def test_for_long_monotonous():\n",
    "    assert check_monotonous(1234) is True\n",
    "    \n",
    "def test_for_long_monotonous():\n",
    "    assert check_monotonous(543) is True\n",
    "    \n",
    "def test_for_short_monotonous():\n",
    "    assert check_monotonous(103) is False\n",
    "    \n",
    "def test_for_var_monotonous():\n",
    "    assert check_monotonous(1223) is False\n"
   ]
  },
  {
   "cell_type": "code",
   "execution_count": null,
   "id": "f319f8ca",
   "metadata": {},
   "outputs": [],
   "source": [
    "def test_for_corr_power_of_2():\n",
    "    assert check_power_of_2(32) is True\n",
    "    \n",
    "def test_for_incorr_power_of_2():\n",
    "    assert check_power_of_2(33) is False\n",
    "    "
   ]
  },
  {
   "cell_type": "code",
   "execution_count": null,
   "id": "ca481067",
   "metadata": {},
   "outputs": [],
   "source": []
  },
  {
   "cell_type": "code",
   "execution_count": null,
   "id": "ae2b74ab",
   "metadata": {},
   "outputs": [],
   "source": []
  }
 ],
 "metadata": {
  "kernelspec": {
   "display_name": "Python 3 (ipykernel)",
   "language": "python",
   "name": "python3"
  },
  "language_info": {
   "codemirror_mode": {
    "name": "ipython",
    "version": 3
   },
   "file_extension": ".py",
   "mimetype": "text/x-python",
   "name": "python",
   "nbconvert_exporter": "python",
   "pygments_lexer": "ipython3",
   "version": "3.11.1"
  }
 },
 "nbformat": 4,
 "nbformat_minor": 5
}
