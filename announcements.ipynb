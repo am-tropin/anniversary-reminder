{
 "cells": [
  {
   "cell_type": "code",
   "execution_count": 28,
   "id": "0085addf",
   "metadata": {},
   "outputs": [],
   "source": [
    "import pandas as pd \n",
    "from datetime import datetime, date, timedelta\n",
    "import calendar\n",
    "\n",
    "from functions_store import range_calendar, stod"
   ]
  },
  {
   "cell_type": "code",
   "execution_count": 2,
   "id": "bdc02da8",
   "metadata": {},
   "outputs": [],
   "source": [
    "DATE_FORMAT = \"%Y-%m-%d\"\n",
    "TODAY_DT = date.today()\n"
   ]
  },
  {
   "cell_type": "code",
   "execution_count": 3,
   "id": "8e56897f",
   "metadata": {},
   "outputs": [],
   "source": [
    "events_df = pd.read_csv(\"events.csv\")\n",
    "events_df['dt'] = events_df['date'].apply(lambda x: datetime.strptime(x, DATE_FORMAT).date())\n",
    "events = events_df.set_index('event').transpose().to_dict()\n"
   ]
  },
  {
   "cell_type": "code",
   "execution_count": 30,
   "id": "13612491",
   "metadata": {},
   "outputs": [],
   "source": [
    "# announcement for an upcoming week\n",
    "# to launch on Sundays\n",
    "\n",
    "# df = range_calendar((TODAY_DT + timedelta(1)).strftime(DATE_FORMAT), (TODAY_DT + timedelta(7+1)).strftime(DATE_FORMAT))\n",
    "# df\n",
    "\n",
    "# with open('announcement_weekly.txt', 'w') as f:\n",
    "#     for index, row in df.iterrows():\n",
    "#         f.write(\"{0} -- {1} {2}s since {3}\".format(row['date'], row['amount'], row['unit'], row['event']))\n",
    "#         f.write('\\n')\n"
   ]
  },
  {
   "cell_type": "code",
   "execution_count": 25,
   "id": "5b25700b",
   "metadata": {},
   "outputs": [
    {
     "data": {
      "text/html": [
       "<div>\n",
       "<style scoped>\n",
       "    .dataframe tbody tr th:only-of-type {\n",
       "        vertical-align: middle;\n",
       "    }\n",
       "\n",
       "    .dataframe tbody tr th {\n",
       "        vertical-align: top;\n",
       "    }\n",
       "\n",
       "    .dataframe thead th {\n",
       "        text-align: right;\n",
       "    }\n",
       "</style>\n",
       "<table border=\"1\" class=\"dataframe\">\n",
       "  <thead>\n",
       "    <tr style=\"text-align: right;\">\n",
       "      <th></th>\n",
       "      <th>date</th>\n",
       "      <th>event</th>\n",
       "      <th>amount</th>\n",
       "      <th>unit</th>\n",
       "    </tr>\n",
       "  </thead>\n",
       "  <tbody>\n",
       "    <tr>\n",
       "      <th>0</th>\n",
       "      <td>2023-06-02</td>\n",
       "      <td>Coronation</td>\n",
       "      <td>70</td>\n",
       "      <td>year</td>\n",
       "    </tr>\n",
       "    <tr>\n",
       "      <th>1</th>\n",
       "      <td>2023-06-07</td>\n",
       "      <td>Philip's death</td>\n",
       "      <td>789</td>\n",
       "      <td>day</td>\n",
       "    </tr>\n",
       "    <tr>\n",
       "      <th>2</th>\n",
       "      <td>2023-06-10</td>\n",
       "      <td>Philip</td>\n",
       "      <td>102</td>\n",
       "      <td>year</td>\n",
       "    </tr>\n",
       "    <tr>\n",
       "      <th>3</th>\n",
       "      <td>2023-06-13</td>\n",
       "      <td>Anne's birth</td>\n",
       "      <td>3800</td>\n",
       "      <td>week</td>\n",
       "    </tr>\n",
       "    <tr>\n",
       "      <th>4</th>\n",
       "      <td>2023-06-15</td>\n",
       "      <td>Elizabeth's death</td>\n",
       "      <td>40</td>\n",
       "      <td>week</td>\n",
       "    </tr>\n",
       "    <tr>\n",
       "      <th>5</th>\n",
       "      <td>2023-06-18</td>\n",
       "      <td>Philip's death</td>\n",
       "      <td>800</td>\n",
       "      <td>day</td>\n",
       "    </tr>\n",
       "  </tbody>\n",
       "</table>\n",
       "</div>"
      ],
      "text/plain": [
       "         date              event amount  unit\n",
       "0  2023-06-02         Coronation     70  year\n",
       "1  2023-06-07     Philip's death    789   day\n",
       "2  2023-06-10             Philip    102  year\n",
       "3  2023-06-13       Anne's birth   3800  week\n",
       "4  2023-06-15  Elizabeth's death     40  week\n",
       "5  2023-06-18     Philip's death    800   day"
      ]
     },
     "execution_count": 25,
     "metadata": {},
     "output_type": "execute_result"
    }
   ],
   "source": [
    "# announcement for an upcoming month\n",
    "# to launch on 28th of previous month\n",
    "\n",
    "days_month = lambda dt: calendar.monthrange(dt.year, dt.month)[1]\n",
    "\n",
    "first_dt = TODAY_DT.replace(day=1) + timedelta(days_month(TODAY_DT))\n",
    "last_dt = first_dt + timedelta(days_month(first_dt) - 1)\n",
    "\n",
    "df = range_calendar(first_dt.strftime(DATE_FORMAT), last_dt.strftime(DATE_FORMAT))\n",
    "df"
   ]
  },
  {
   "cell_type": "code",
   "execution_count": 29,
   "id": "b624f9ff",
   "metadata": {},
   "outputs": [],
   "source": [
    "with open('announcement_monthly.txt', 'w') as f:\n",
    "    f.write(first_dt.strftime(\"%B %Y\"))\n",
    "    f.write('\\n\\n')\n",
    "    \n",
    "    for index, row in df.iterrows():\n",
    "#         f.write(\"{0} -- {1} {2}s since {3}\".format(row['date'], row['amount'], row['unit'], row['event']))\n",
    "        f.write(\"{0} -- {1} {2}s since {3}\".format(stod(row['date']).strftime(\"%d\"), row['amount'], row['unit'], row['event']))\n",
    "        f.write('\\n')\n"
   ]
  },
  {
   "cell_type": "code",
   "execution_count": null,
   "id": "40e8478a",
   "metadata": {},
   "outputs": [],
   "source": []
  }
 ],
 "metadata": {
  "kernelspec": {
   "display_name": "Python 3 (ipykernel)",
   "language": "python",
   "name": "python3"
  },
  "language_info": {
   "codemirror_mode": {
    "name": "ipython",
    "version": 3
   },
   "file_extension": ".py",
   "mimetype": "text/x-python",
   "name": "python",
   "nbconvert_exporter": "python",
   "pygments_lexer": "ipython3",
   "version": "3.11.1"
  }
 },
 "nbformat": 4,
 "nbformat_minor": 5
}
