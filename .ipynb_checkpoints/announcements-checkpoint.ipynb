{
 "cells": [
  {
   "cell_type": "code",
   "execution_count": 1,
   "id": "0085addf",
   "metadata": {},
   "outputs": [],
   "source": [
    "from functions.functions_store import announcement_upcoming_month"
   ]
  },
  {
   "cell_type": "code",
   "execution_count": 2,
   "id": "0c33a5f7",
   "metadata": {},
   "outputs": [],
   "source": [
    "announcement_upcoming_month()"
   ]
  },
  {
   "cell_type": "code",
   "execution_count": null,
   "id": "49dd2c07",
   "metadata": {},
   "outputs": [],
   "source": []
  },
  {
   "cell_type": "code",
   "execution_count": null,
   "id": "c879dbcd",
   "metadata": {},
   "outputs": [],
   "source": []
  },
  {
   "cell_type": "code",
   "execution_count": 30,
   "id": "13612491",
   "metadata": {},
   "outputs": [],
   "source": [
    "# announcement for an upcoming week\n",
    "# to launch on Sundays\n",
    "\n",
    "# df = range_calendar((TODAY_DT + timedelta(1)).strftime(DATE_FORMAT), (TODAY_DT + timedelta(7+1)).strftime(DATE_FORMAT))\n",
    "# df\n",
    "\n",
    "# with open('announcement_weekly.txt', 'w') as f:\n",
    "#     for index, row in df.iterrows():\n",
    "#         f.write(\"{0} -- {1} {2}s since {3}\".format(row['date'], row['amount'], row['unit'], row['event']))\n",
    "#         f.write('\\n')\n"
   ]
  }
 ],
 "metadata": {
  "kernelspec": {
   "display_name": "Python 3 (ipykernel)",
   "language": "python",
   "name": "python3"
  },
  "language_info": {
   "codemirror_mode": {
    "name": "ipython",
    "version": 3
   },
   "file_extension": ".py",
   "mimetype": "text/x-python",
   "name": "python",
   "nbconvert_exporter": "python",
   "pygments_lexer": "ipython3",
   "version": "3.11.1"
  }
 },
 "nbformat": 4,
 "nbformat_minor": 5
}
