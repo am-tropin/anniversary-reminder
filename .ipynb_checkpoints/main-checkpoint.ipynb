{
 "cells": [
  {
   "cell_type": "code",
   "execution_count": 4,
   "id": "e4fe70d7",
   "metadata": {},
   "outputs": [],
   "source": [
    "from functions_store import some_day_counter, range_calendar, total_age_anniversaries, differences_inside_set\n",
    "\n",
    "# API\n",
    "from fastapi import FastAPI, Request, Form\n",
    "from fastapi.templating import Jinja2Templates\n"
   ]
  },
  {
   "cell_type": "code",
   "execution_count": 6,
   "id": "8327a2bf",
   "metadata": {},
   "outputs": [],
   "source": [
    "app = FastAPI()\n",
    "templates = Jinja2Templates(directory=\"templates/\")\n",
    "\n",
    "\n",
    "@app.get(\"/\")\n",
    "async def root():\n",
    "    return \"Welcome to the Anniversary Reminder!\"\n",
    "\n",
    "\n",
    "# for some day\n",
    "\n",
    "@app.get(\"/{date}\")\n",
    "async def get_anniv_for_some_day(date: str):\n",
    "    return {\"Duration to the date:\": some_day_counter(date)}\n",
    "\n",
    "@app.get(\"/date/{form_some_day}\")\n",
    "def form_post(request: Request):\n",
    "    result = \"Write a date as YYYY-MM-DD\"\n",
    "    return templates.TemplateResponse('form_some_day.html', context={'request': request, 'result': result})\n",
    "\n",
    "@app.post(\"/date/{form_some_day}\")\n",
    "def form_post(request: Request, date: str = Form(...)):\n",
    "    result = some_day_counter(date)\n",
    "    return templates.TemplateResponse('form_some_day.html', context={'request': request, 'result': result.to_html()})\n",
    "\n",
    "\n",
    "# for range\n",
    "\n",
    "@app.get(\"/{date1}_{date2}\")\n",
    "async def get_anniv_for_range(date1: str, date2: str):\n",
    "    return {\"Anniversaries in the range:\": range_calendar(date1, date2)}\n",
    "\n",
    "@app.get(\"/date/{form_range}\")\n",
    "def form_post_range(request: Request):\n",
    "    result = \"Write dates as YYYY-MM-DD\"\n",
    "    return templates.TemplateResponse('form_range.html', context={'request': request, 'result': result})\n",
    "\n",
    "@app.post(\"/date/{form_range}\")\n",
    "def form_post_range(request: Request, date1: str = Form(...), date2: str = Form(...)):\n",
    "    result = range_calendar(date1, date2)\n",
    "    return templates.TemplateResponse('form_range.html', context={'request': request, 'result': result.to_html()})\n"
   ]
  }
 ],
 "metadata": {
  "kernelspec": {
   "display_name": "Python 3 (ipykernel)",
   "language": "python",
   "name": "python3"
  },
  "language_info": {
   "codemirror_mode": {
    "name": "ipython",
    "version": 3
   },
   "file_extension": ".py",
   "mimetype": "text/x-python",
   "name": "python",
   "nbconvert_exporter": "python",
   "pygments_lexer": "ipython3",
   "version": "3.11.1"
  }
 },
 "nbformat": 4,
 "nbformat_minor": 5
}
