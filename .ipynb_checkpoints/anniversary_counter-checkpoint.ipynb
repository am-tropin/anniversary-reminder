{
 "cells": [
  {
   "cell_type": "code",
   "execution_count": null,
   "id": "6b3a6e16",
   "metadata": {},
   "outputs": [],
   "source": []
  },
  {
   "cell_type": "code",
   "execution_count": 123,
   "id": "991b2a00",
   "metadata": {},
   "outputs": [],
   "source": [
    "import pandas as pd \n",
    "from datetime import datetime, date, timedelta\n",
    "from itertools import combinations\n"
   ]
  },
  {
   "cell_type": "code",
   "execution_count": 274,
   "id": "9408ae06",
   "metadata": {},
   "outputs": [],
   "source": [
    "DATE_FORMAT = \"%Y-%m-%d\"\n",
    "TODAY_DT = date.today() #.strftime(DATE_FORMAT)\n"
   ]
  },
  {
   "cell_type": "markdown",
   "id": "343231cf",
   "metadata": {},
   "source": [
    "# 1. Loading the csv of dates"
   ]
  },
  {
   "cell_type": "code",
   "execution_count": 150,
   "id": "1801c3d3",
   "metadata": {},
   "outputs": [
    {
     "data": {
      "text/html": [
       "<div>\n",
       "<style scoped>\n",
       "    .dataframe tbody tr th:only-of-type {\n",
       "        vertical-align: middle;\n",
       "    }\n",
       "\n",
       "    .dataframe tbody tr th {\n",
       "        vertical-align: top;\n",
       "    }\n",
       "\n",
       "    .dataframe thead th {\n",
       "        text-align: right;\n",
       "    }\n",
       "</style>\n",
       "<table border=\"1\" class=\"dataframe\">\n",
       "  <thead>\n",
       "    <tr style=\"text-align: right;\">\n",
       "      <th></th>\n",
       "      <th>event</th>\n",
       "      <th>date</th>\n",
       "      <th>importance</th>\n",
       "      <th>category</th>\n",
       "    </tr>\n",
       "  </thead>\n",
       "  <tbody>\n",
       "    <tr>\n",
       "      <th>0</th>\n",
       "      <td>Philip</td>\n",
       "      <td>1921-06-10</td>\n",
       "      <td>1</td>\n",
       "      <td>birth</td>\n",
       "    </tr>\n",
       "    <tr>\n",
       "      <th>1</th>\n",
       "      <td>Elizabeth</td>\n",
       "      <td>1926-04-21</td>\n",
       "      <td>1</td>\n",
       "      <td>birth</td>\n",
       "    </tr>\n",
       "    <tr>\n",
       "      <th>2</th>\n",
       "      <td>Engagement</td>\n",
       "      <td>1947-07-09</td>\n",
       "      <td>3</td>\n",
       "      <td>both</td>\n",
       "    </tr>\n",
       "    <tr>\n",
       "      <th>3</th>\n",
       "      <td>Wedding</td>\n",
       "      <td>1947-11-20</td>\n",
       "      <td>2</td>\n",
       "      <td>both</td>\n",
       "    </tr>\n",
       "    <tr>\n",
       "      <th>4</th>\n",
       "      <td>Charles' birth</td>\n",
       "      <td>1948-11-14</td>\n",
       "      <td>2</td>\n",
       "      <td>child</td>\n",
       "    </tr>\n",
       "  </tbody>\n",
       "</table>\n",
       "</div>"
      ],
      "text/plain": [
       "            event        date  importance category\n",
       "0          Philip  1921-06-10           1    birth\n",
       "1       Elizabeth  1926-04-21           1    birth\n",
       "2      Engagement  1947-07-09           3     both\n",
       "3         Wedding  1947-11-20           2     both\n",
       "4  Charles' birth  1948-11-14           2    child"
      ]
     },
     "execution_count": 150,
     "metadata": {},
     "output_type": "execute_result"
    }
   ],
   "source": [
    "events_df = pd.read_csv(\"events.csv\")\n",
    "events_df.head()"
   ]
  },
  {
   "cell_type": "code",
   "execution_count": 293,
   "id": "281c3e53",
   "metadata": {},
   "outputs": [
    {
     "data": {
      "text/html": [
       "<div>\n",
       "<style scoped>\n",
       "    .dataframe tbody tr th:only-of-type {\n",
       "        vertical-align: middle;\n",
       "    }\n",
       "\n",
       "    .dataframe tbody tr th {\n",
       "        vertical-align: top;\n",
       "    }\n",
       "\n",
       "    .dataframe thead th {\n",
       "        text-align: right;\n",
       "    }\n",
       "</style>\n",
       "<table border=\"1\" class=\"dataframe\">\n",
       "  <thead>\n",
       "    <tr style=\"text-align: right;\">\n",
       "      <th></th>\n",
       "      <th>event</th>\n",
       "      <th>date</th>\n",
       "      <th>importance</th>\n",
       "      <th>category</th>\n",
       "      <th>dt</th>\n",
       "    </tr>\n",
       "  </thead>\n",
       "  <tbody>\n",
       "    <tr>\n",
       "      <th>0</th>\n",
       "      <td>Philip</td>\n",
       "      <td>1921-06-10</td>\n",
       "      <td>1</td>\n",
       "      <td>birth</td>\n",
       "      <td>1921-06-10</td>\n",
       "    </tr>\n",
       "    <tr>\n",
       "      <th>1</th>\n",
       "      <td>Elizabeth</td>\n",
       "      <td>1926-04-21</td>\n",
       "      <td>1</td>\n",
       "      <td>birth</td>\n",
       "      <td>1926-04-21</td>\n",
       "    </tr>\n",
       "    <tr>\n",
       "      <th>2</th>\n",
       "      <td>Engagement</td>\n",
       "      <td>1947-07-09</td>\n",
       "      <td>3</td>\n",
       "      <td>both</td>\n",
       "      <td>1947-07-09</td>\n",
       "    </tr>\n",
       "    <tr>\n",
       "      <th>3</th>\n",
       "      <td>Wedding</td>\n",
       "      <td>1947-11-20</td>\n",
       "      <td>2</td>\n",
       "      <td>both</td>\n",
       "      <td>1947-11-20</td>\n",
       "    </tr>\n",
       "    <tr>\n",
       "      <th>4</th>\n",
       "      <td>Charles' birth</td>\n",
       "      <td>1948-11-14</td>\n",
       "      <td>2</td>\n",
       "      <td>child</td>\n",
       "      <td>1948-11-14</td>\n",
       "    </tr>\n",
       "  </tbody>\n",
       "</table>\n",
       "</div>"
      ],
      "text/plain": [
       "            event        date  importance category          dt\n",
       "0          Philip  1921-06-10           1    birth  1921-06-10\n",
       "1       Elizabeth  1926-04-21           1    birth  1926-04-21\n",
       "2      Engagement  1947-07-09           3     both  1947-07-09\n",
       "3         Wedding  1947-11-20           2     both  1947-11-20\n",
       "4  Charles' birth  1948-11-14           2    child  1948-11-14"
      ]
     },
     "execution_count": 293,
     "metadata": {},
     "output_type": "execute_result"
    }
   ],
   "source": [
    "# adding a column dt with format datetime.date()\n",
    "\n",
    "events_df['dt'] = events_df['date'].apply(lambda x: datetime.strptime(x, DATE_FORMAT).date())\n",
    "events_df.head()"
   ]
  },
  {
   "cell_type": "code",
   "execution_count": 295,
   "id": "56f758d0",
   "metadata": {},
   "outputs": [
    {
     "data": {
      "text/plain": [
       "{'Philip': {'date': '1921-06-10',\n",
       "  'importance': 1,\n",
       "  'category': 'birth',\n",
       "  'dt': datetime.date(1921, 6, 10)},\n",
       " 'Elizabeth': {'date': '1926-04-21',\n",
       "  'importance': 1,\n",
       "  'category': 'birth',\n",
       "  'dt': datetime.date(1926, 4, 21)},\n",
       " 'Engagement': {'date': '1947-07-09',\n",
       "  'importance': 3,\n",
       "  'category': 'both',\n",
       "  'dt': datetime.date(1947, 7, 9)},\n",
       " 'Wedding': {'date': '1947-11-20',\n",
       "  'importance': 2,\n",
       "  'category': 'both',\n",
       "  'dt': datetime.date(1947, 11, 20)},\n",
       " \"Charles' birth\": {'date': '1948-11-14',\n",
       "  'importance': 2,\n",
       "  'category': 'child',\n",
       "  'dt': datetime.date(1948, 11, 14)},\n",
       " \"Anne's birth\": {'date': '1950-08-15',\n",
       "  'importance': 2,\n",
       "  'category': 'child',\n",
       "  'dt': datetime.date(1950, 8, 15)},\n",
       " 'Beginning of reign': {'date': '1952-02-06',\n",
       "  'importance': 1,\n",
       "  'category': 'both',\n",
       "  'dt': datetime.date(1952, 2, 6)},\n",
       " 'Coronation': {'date': '1953-06-02',\n",
       "  'importance': 2,\n",
       "  'category': 'both',\n",
       "  'dt': datetime.date(1953, 6, 2)},\n",
       " \"Andrew's birth\": {'date': '1960-02-19',\n",
       "  'importance': 2,\n",
       "  'category': 'child',\n",
       "  'dt': datetime.date(1960, 2, 19)},\n",
       " \"Edward's birth\": {'date': '1964-03-10',\n",
       "  'importance': 2,\n",
       "  'category': 'child',\n",
       "  'dt': datetime.date(1964, 3, 10)},\n",
       " \"Philip's death\": {'date': '2021-04-09',\n",
       "  'importance': 2,\n",
       "  'category': 'death',\n",
       "  'dt': datetime.date(2021, 4, 9)},\n",
       " \"Elizabeth's death\": {'date': '2022-09-08',\n",
       "  'importance': 1,\n",
       "  'category': 'death',\n",
       "  'dt': datetime.date(2022, 9, 8)}}"
      ]
     },
     "execution_count": 295,
     "metadata": {},
     "output_type": "execute_result"
    }
   ],
   "source": [
    "events = events_df.set_index('event').transpose().to_dict()\n",
    "events"
   ]
  },
  {
   "cell_type": "markdown",
   "id": "6052f524",
   "metadata": {},
   "source": [
    "# 2. Functions"
   ]
  },
  {
   "cell_type": "code",
   "execution_count": null,
   "id": "38a31efb",
   "metadata": {},
   "outputs": [],
   "source": [
    "def stod(dt_str):\n",
    "    \"\"\"Converts string variable `dt_str` to date.\n",
    "    \n",
    "    Args:\n",
    "        dt_str (str): The string date in `DATE_FORMAT` format.\n",
    "        \n",
    "    Returns:\n",
    "        Date\n",
    "    \"\"\"\n",
    "    return datetime.strptime(dt_str, DATE_FORMAT).date()"
   ]
  },
  {
   "cell_type": "code",
   "execution_count": 273,
   "id": "5927c2a8",
   "metadata": {},
   "outputs": [],
   "source": [
    "def days_between(dt1, dt2):\n",
    "    \"\"\"Calculates difference between `dt1` and `dt2`.\n",
    "    \n",
    "    Args:\n",
    "        dt1 (date): The first date.\n",
    "        dt2 (date): The second date.\n",
    "        \n",
    "    Returns:\n",
    "        Boolean\n",
    "    \"\"\"\n",
    "    try:\n",
    "        return abs((dt2 - dt1).days)\n",
    "    except:\n",
    "        return None\n"
   ]
  },
  {
   "cell_type": "code",
   "execution_count": 271,
   "id": "caf616a3",
   "metadata": {},
   "outputs": [],
   "source": [
    "# iterator by date\n",
    "# input and output format: date(YYYY, MM, DD) \n",
    "\n",
    "def daterange(start_dt, end_dt):\n",
    "    \"\"\"Generates a range of dates from `start_dt` to `end_dt` (including the ends).\n",
    "    \n",
    "    Args:\n",
    "        start_dt (date): The start date.\n",
    "        end_dt (date): The end date.\n",
    "        \n",
    "    Returns:\n",
    "        Iterator of dates (date)\n",
    "    \"\"\"\n",
    "    for n in range(int((end_dt - start_dt).days) + 1):\n",
    "        yield start_dt + timedelta(n)\n"
   ]
  },
  {
   "cell_type": "code",
   "execution_count": 236,
   "id": "54e95351",
   "metadata": {},
   "outputs": [],
   "source": [
    "# rules for detecting anniversaries\n",
    "# input format: date(YYYY, MM, DD) \n",
    "\n",
    "def rule_multiple(dt1, dt2, n):\n",
    "    \"\"\"Identifies if difference between 2 dates `dt1` and `dt2` is multiple of `n`.\n",
    "    \n",
    "    Args:\n",
    "        dt1 (date): \n",
    "        dt2 (date): \n",
    "        n (int): The number of multiplicity.\n",
    "        \n",
    "    Returns:\n",
    "        Boolean\n",
    "    \"\"\"\n",
    "    if days_between(dt1, dt2) % n == 0:\n",
    "        return True\n",
    "    else:\n",
    "        return False\n",
    "\n",
    "def rule_anniversary(dt1, dt2):\n",
    "    \"\"\"Identifies if `dt1` is an anniversary of `dt2` or vice versa.\n",
    "    \n",
    "    Args:\n",
    "        dt1 (date): \n",
    "        dt2 (date): \n",
    "        \n",
    "    Returns:\n",
    "        Int or None\n",
    "    \"\"\"\n",
    "    if dt1.month == dt2.month and dt1.day == dt2.day:\n",
    "        return abs(dt1.year - dt2.year)\n",
    "    else:\n",
    "        return None\n"
   ]
  },
  {
   "cell_type": "code",
   "execution_count": 133,
   "id": "ceb916ab",
   "metadata": {},
   "outputs": [],
   "source": [
    "def today_counter():\n",
    "    print(\"Today is...\")\n",
    "    for event in events.keys():\n",
    "        print(\"{} days since {}\".format(days_between(TODAY_DT, events[event]['dt']), event))\n",
    "\n",
    "def range_calendar(dt_start, dt_end):\n",
    "    for dt in daterange(dt_start, dt_end):\n",
    "        for event in events.keys():\n",
    "            event_dt = events[event]['dt']\n",
    "            if (\n",
    "                (rule_multiple(dt, event_dt, 100) and events[event]['importance'] <= 2)\n",
    "                or\n",
    "                (rule_multiple(dt, event_dt, 1000) and events[event]['importance'] == 3)\n",
    "            ):\n",
    "                print(\"{} -- {} days since {}\".format(dt, days_between(dt, event_dt), event))\n",
    "            if rule_anniversary(dt, event_dt):\n",
    "                print(\"{} -- {} years since {}\".format(dt, rule_anniversary(dt, event_dt), event))\n",
    "            \n"
   ]
  },
  {
   "cell_type": "code",
   "execution_count": 275,
   "id": "694d570d",
   "metadata": {},
   "outputs": [],
   "source": [
    "def differences_inside_set():\n",
    "    for event1 in events.keys():\n",
    "        for event2 in events.keys():\n",
    "            if (\n",
    "                days_between(events[event1]['dt'], events[event2]['dt']) % 100 == 0 and \n",
    "                event1 != event2 and \n",
    "                events[event1]['dt'] < events[event2]['dt']\n",
    "            ):\n",
    "                print(\"{} days between {} and {}\".format(days_between(events[event1]['dt'], events[event2]['dt']), event1, event2))\n"
   ]
  },
  {
   "cell_type": "code",
   "execution_count": 228,
   "id": "7d4e1b4f",
   "metadata": {},
   "outputs": [],
   "source": [
    "def birth_dates():\n",
    "    birth_dict = {}\n",
    "    for k, v in events.items():\n",
    "        if v['category'] == 'birth':\n",
    "            birth_dict[k] = v['dt']    \n",
    "    return birth_dict"
   ]
  },
  {
   "cell_type": "code",
   "execution_count": 208,
   "id": "cab6f51e",
   "metadata": {},
   "outputs": [],
   "source": [
    "def age_counter(given_dt):\n",
    "    \n",
    "    birth_dict = birth_dates()\n",
    "    output_dict = {}\n",
    "    \n",
    "    try:\n",
    "        for k in birth_dict.keys():\n",
    "#             print(\"{0}'s age: {1} days\".format(k, days_between(given_dt, birth_dict[k])))\n",
    "            output_dict[\"{0}'s age\".format(k)] = days_between(given_dt, birth_dict[k])\n",
    "\n",
    "        if len(birth_dict.keys()) > 1:\n",
    "            for (k1, k2) in combinations(birth_dict.keys(), 2):\n",
    "#                 print(\"Age difference between {0} and {1}: {2} days\".format(k1, k2, days_between(birth_dict[k1], birth_dict[k2])))\n",
    "                output_dict[\"Age difference between {0} and {1}\".format(k1, k2)] = days_between(birth_dict[k1], birth_dict[k2])\n",
    "#             print(\"Total age: {} days\".format(sum([days_between(given_dt, birth_dict[k]) for k in birth_dict.keys()])))\n",
    "            output_dict[\"Total age\"] = sum([days_between(given_dt, birth_dict[k]) for k in birth_dict.keys()])\n",
    "        print(\"Ages were calculated.\")\n",
    "    \n",
    "    except:\n",
    "        print(\"Something wrong happened...\")\n",
    "\n",
    "    if len(output_dict):\n",
    "        return pd.DataFrame.from_dict(output_dict, orient='index', columns=['days'])\n",
    "    else:\n",
    "        return \"Sorry, there is no answer :(\"\n",
    "    "
   ]
  },
  {
   "cell_type": "code",
   "execution_count": 233,
   "id": "4370e2ee",
   "metadata": {},
   "outputs": [],
   "source": [
    "def total_age_anniversaries(start_dt, end_dt, n=1000):\n",
    "    \"\"\"Returns dates between `start_dt` and `end_dt` in which total age (in days) \n",
    "    is close to be multiple of `n`.\n",
    "    \n",
    "    Args:\n",
    "        start_dt (date): \n",
    "        end_dt (date): \n",
    "        n (int): The number for checking multiplicity (more or equal 10). Default value is 1000.\n",
    "    \n",
    "    Returns:\n",
    "        DataFrame\n",
    "    \"\"\"\n",
    "    birth_dict = birth_dates()\n",
    "    output_dict = {}\n",
    "    \n",
    "    try:\n",
    "        for dt in daterange(start_dt, end_dt):\n",
    "            total_age = sum([days_between(dt, birth_dict[k]) for k in birth_dict.keys()])\n",
    "            if n >= 10 and total_age % n in range(len(birth_dict)):\n",
    "#                 print(\"{} -- {} days of their combined age\".format(dt.strftime('%Y-%m-%d'), total_age))\n",
    "                output_dict[dt.strftime('%Y-%m-%d')] = total_age\n",
    "    except:\n",
    "        print(\"Something wrong happened...\")\n",
    "    \n",
    "    if len(output_dict):\n",
    "        return pd.DataFrame.from_dict(output_dict, orient='index', columns=['days'])\n",
    "    else:\n",
    "        return \"Sorry, there is no answer :(\"\n",
    "    "
   ]
  },
  {
   "cell_type": "markdown",
   "id": "199b2743",
   "metadata": {},
   "source": [
    "# 3. Performing"
   ]
  },
  {
   "cell_type": "code",
   "execution_count": 211,
   "id": "9eae9429",
   "metadata": {},
   "outputs": [],
   "source": [
    "# given_dt = stod(events[\"Philip's death\"]['date'])\n",
    "\n",
    "# age_counter(given_dt)\n",
    "# age_counter(\"\")\n",
    "\n",
    "# ok"
   ]
  },
  {
   "cell_type": "code",
   "execution_count": 235,
   "id": "e0b39854",
   "metadata": {},
   "outputs": [],
   "source": [
    "# start_dt = stod(events['Engagement']['date'])\n",
    "# end_dt = stod(events[\"Philip's death\"]['date'])\n",
    "\n",
    "# total_age_anniversaries(start_dt, end_dt)\n",
    "# total_age_anniversaries(start_dt, \"\")\n",
    "\n",
    "# ok"
   ]
  },
  {
   "cell_type": "code",
   "execution_count": null,
   "id": "00b91fe0",
   "metadata": {},
   "outputs": [],
   "source": []
  },
  {
   "cell_type": "code",
   "execution_count": 161,
   "id": "62081045",
   "metadata": {},
   "outputs": [],
   "source": [
    "# today_counter(events)"
   ]
  },
  {
   "cell_type": "code",
   "execution_count": 160,
   "id": "417ab213",
   "metadata": {},
   "outputs": [],
   "source": [
    "# range_calendar(date.today(), date(2023, 12, 31))\n"
   ]
  },
  {
   "cell_type": "code",
   "execution_count": 129,
   "id": "50a29a1a",
   "metadata": {},
   "outputs": [],
   "source": [
    "# birthday_dt_1 = events[\"Elizabeth\"]['date']\n",
    "# birthday_dt_2 = events[\"Philip\"]['date']\n",
    "# given_dt = events[\"Philip's death\"]['date']\n"
   ]
  },
  {
   "cell_type": "code",
   "execution_count": 157,
   "id": "168603fc",
   "metadata": {},
   "outputs": [],
   "source": [
    "# total_age_anniversaries(birthday_dt_1, birthday_dt_2, events['Engagement']['date'], events[\"Philip's death\"]['date'])\n"
   ]
  },
  {
   "cell_type": "code",
   "execution_count": 156,
   "id": "34887714",
   "metadata": {},
   "outputs": [],
   "source": [
    "# differences_inside_set(events)"
   ]
  },
  {
   "cell_type": "code",
   "execution_count": null,
   "id": "ed1a8c1e",
   "metadata": {},
   "outputs": [],
   "source": []
  },
  {
   "cell_type": "code",
   "execution_count": null,
   "id": "0c6e4dfa",
   "metadata": {},
   "outputs": [],
   "source": []
  },
  {
   "cell_type": "code",
   "execution_count": null,
   "id": "78f06002",
   "metadata": {},
   "outputs": [],
   "source": [
    "# str -> date: datetime.strptime(dt, \"%Y-%m-%d\").date()\n",
    "# date -> str: dt.strftime('%Y-%m-%d')\n",
    "\n",
    "#  in 'YYYY-MM-DD' format"
   ]
  },
  {
   "cell_type": "code",
   "execution_count": null,
   "id": "f3fa0b8b",
   "metadata": {},
   "outputs": [],
   "source": []
  },
  {
   "cell_type": "code",
   "execution_count": 212,
   "id": "d5170da6",
   "metadata": {},
   "outputs": [
    {
     "name": "stdout",
     "output_type": "stream",
     "text": [
      "Ages were calculated.\n",
      "                                              days\n",
      "Philip's age                                 36463\n",
      "Elizabeth's age                              34687\n",
      "Age difference between Philip and Elizabeth   1776\n",
      "Total age                                    71150\n"
     ]
    }
   ],
   "source": [
    "if __name__==\"__main__\":\n",
    "    print(age_counter('2021-04-09'))"
   ]
  },
  {
   "cell_type": "code",
   "execution_count": null,
   "id": "80295b33",
   "metadata": {},
   "outputs": [],
   "source": []
  }
 ],
 "metadata": {
  "kernelspec": {
   "display_name": "Python 3 (ipykernel)",
   "language": "python",
   "name": "python3"
  },
  "language_info": {
   "codemirror_mode": {
    "name": "ipython",
    "version": 3
   },
   "file_extension": ".py",
   "mimetype": "text/x-python",
   "name": "python",
   "nbconvert_exporter": "python",
   "pygments_lexer": "ipython3",
   "version": "3.11.1"
  }
 },
 "nbformat": 4,
 "nbformat_minor": 5
}
