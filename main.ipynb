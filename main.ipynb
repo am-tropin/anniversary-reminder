{
 "cells": [
  {
   "cell_type": "code",
   "execution_count": 1,
   "id": "b8098ce9",
   "metadata": {},
   "outputs": [
    {
     "ename": "ModuleNotFoundError",
     "evalue": "No module named 'anniversary_counter'",
     "output_type": "error",
     "traceback": [
      "\u001b[0;31m---------------------------------------------------------------------------\u001b[0m",
      "\u001b[0;31mModuleNotFoundError\u001b[0m                       Traceback (most recent call last)",
      "Cell \u001b[0;32mIn[1], line 1\u001b[0m\n\u001b[0;32m----> 1\u001b[0m \u001b[38;5;28;01mfrom\u001b[39;00m \u001b[38;5;21;01manniversary_counter\u001b[39;00m \u001b[38;5;28;01mimport\u001b[39;00m age_counter_2\n\u001b[1;32m      3\u001b[0m \u001b[38;5;66;03m#========================================\u001b[39;00m\n\u001b[1;32m      4\u001b[0m \u001b[38;5;66;03m# API\u001b[39;00m\n\u001b[1;32m      5\u001b[0m \u001b[38;5;66;03m#========================================\u001b[39;00m\n\u001b[1;32m      6\u001b[0m \u001b[38;5;28;01mfrom\u001b[39;00m \u001b[38;5;21;01mfastapi\u001b[39;00m \u001b[38;5;28;01mimport\u001b[39;00m FastAPI, Request, Form\n",
      "\u001b[0;31mModuleNotFoundError\u001b[0m: No module named 'anniversary_counter'"
     ]
    }
   ],
   "source": [
    "from anniversary_counter import age_counter_2\n",
    "\n",
    "#========================================\n",
    "# API\n",
    "#========================================\n",
    "from fastapi import FastAPI, Request, Form\n",
    "from fastapi.templating import Jinja2Templates\n"
   ]
  },
  {
   "cell_type": "code",
   "execution_count": null,
   "id": "f6b288df",
   "metadata": {},
   "outputs": [],
   "source": [
    "app = FastAPI()\n",
    "templates = Jinja2Templates(directory=\"templates/\")\n",
    "\n",
    "\n",
    "@app.get(\"/\")\n",
    "async def root():\n",
    "    return \"Welcome to the Anniversary Reminder!\"\n",
    "\n",
    "@app.get(\"/{date}\")\n",
    "async def get_anniv(date: str):\n",
    "    return {\"Recommended movies:\": age_counter_2(date)}\n",
    "\n",
    "@app.get(\"/date/{form}\")\n",
    "def form_post(request: Request):\n",
    "    result = \"Write a date in format YYYY-MM-DD\"\n",
    "    return templates.TemplateResponse('form.html', context={'request': request, 'result': result})\n",
    "\n",
    "@app.post(\"/date/{form}\")\n",
    "def form_post(request: Request, date: str = Form(...)):\n",
    "    result = age_counter_2(date)\n",
    "    return templates.TemplateResponse('form.html', context={'request': request, 'result': result.to_html()})\n",
    "\n",
    "\n",
    "# uvicorn main:app --reload"
   ]
  }
 ],
 "metadata": {
  "kernelspec": {
   "display_name": "Python 3 (ipykernel)",
   "language": "python",
   "name": "python3"
  },
  "language_info": {
   "codemirror_mode": {
    "name": "ipython",
    "version": 3
   },
   "file_extension": ".py",
   "mimetype": "text/x-python",
   "name": "python",
   "nbconvert_exporter": "python",
   "pygments_lexer": "ipython3",
   "version": "3.11.1"
  }
 },
 "nbformat": 4,
 "nbformat_minor": 5
}
