{
 "cells": [
  {
   "cell_type": "code",
   "execution_count": 4,
   "id": "112a25ca",
   "metadata": {},
   "outputs": [],
   "source": [
    "from anniversary_counter import age_counter_2\n",
    "\n",
    "# API\n",
    "from fastapi import FastAPI, Request, Form\n",
    "from fastapi.templating import Jinja2Templates\n"
   ]
  },
  {
   "cell_type": "code",
   "execution_count": 6,
   "id": "f355f216",
   "metadata": {},
   "outputs": [],
   "source": [
    "app = FastAPI()\n",
    "templates = Jinja2Templates(directory=\"templates/\")\n",
    "\n",
    "\n",
    "@app.get(\"/\")\n",
    "async def root():\n",
    "    return \"Welcome to the Anniversary Reminder!\"\n",
    "\n",
    "\n",
    "@app.get(\"/{date}\")\n",
    "async def get_anniv(date: str):\n",
    "    return {\"Age counter:\": age_counter_2(date)}\n",
    "# if commented:\n",
    "# \"GET /favicon.ico HTTP/1.1\" 404 Not Found\n",
    "# and didn't performed\n",
    "\n",
    "\n",
    "@app.get(\"/date/{form}\")\n",
    "def form_post(request: Request):\n",
    "    result = \"Write a date in format YYYY-MM-DD\"\n",
    "    return templates.TemplateResponse('form.html', context={'request': request, 'result': result})\n",
    "# if commented:\n",
    "# 127.0.0.1:51919 - \"GET / HTTP/1.1\" 200 OK\n",
    "# and didn't performed\n",
    "\n",
    "\n",
    "@app.post(\"/date/{form}\")\n",
    "def form_post(request: Request, date: str = Form(...)):\n",
    "    result = age_counter_2(date)\n",
    "    return templates.TemplateResponse('form.html', context={'request': request, 'result': result.to_html()})\n",
    "\n"
   ]
  },
  {
   "cell_type": "code",
   "execution_count": 8,
   "id": "658de65e",
   "metadata": {},
   "outputs": [],
   "source": [
    "# uvicorn main:app --reload"
   ]
  },
  {
   "cell_type": "code",
   "execution_count": null,
   "id": "f0d3046d",
   "metadata": {},
   "outputs": [],
   "source": []
  }
 ],
 "metadata": {
  "kernelspec": {
   "display_name": "Python 3 (ipykernel)",
   "language": "python",
   "name": "python3"
  },
  "language_info": {
   "codemirror_mode": {
    "name": "ipython",
    "version": 3
   },
   "file_extension": ".py",
   "mimetype": "text/x-python",
   "name": "python",
   "nbconvert_exporter": "python",
   "pygments_lexer": "ipython3",
   "version": "3.11.1"
  }
 },
 "nbformat": 4,
 "nbformat_minor": 5
}
