{
 "cells": [
  {
   "cell_type": "code",
   "execution_count": null,
   "id": "a9ee5e9d",
   "metadata": {},
   "outputs": [],
   "source": []
  },
  {
   "cell_type": "code",
   "execution_count": 123,
   "id": "ba4262bf",
   "metadata": {},
   "outputs": [],
   "source": [
    "import pandas as pd \n",
    "from datetime import datetime, date, timedelta\n",
    "from itertools import combinations\n"
   ]
  },
  {
   "cell_type": "code",
   "execution_count": 7,
   "id": "42947daa",
   "metadata": {},
   "outputs": [],
   "source": [
    "TODAY_DT = date.today().strftime(\"%Y-%m-%d\")\n"
   ]
  },
  {
   "cell_type": "markdown",
   "id": "5a35cd84",
   "metadata": {},
   "source": [
    "# 1. Loading the csv of dates"
   ]
  },
  {
   "cell_type": "code",
   "execution_count": 150,
   "id": "40dd0149",
   "metadata": {},
   "outputs": [
    {
     "data": {
      "text/html": [
       "<div>\n",
       "<style scoped>\n",
       "    .dataframe tbody tr th:only-of-type {\n",
       "        vertical-align: middle;\n",
       "    }\n",
       "\n",
       "    .dataframe tbody tr th {\n",
       "        vertical-align: top;\n",
       "    }\n",
       "\n",
       "    .dataframe thead th {\n",
       "        text-align: right;\n",
       "    }\n",
       "</style>\n",
       "<table border=\"1\" class=\"dataframe\">\n",
       "  <thead>\n",
       "    <tr style=\"text-align: right;\">\n",
       "      <th></th>\n",
       "      <th>event</th>\n",
       "      <th>date</th>\n",
       "      <th>importance</th>\n",
       "      <th>category</th>\n",
       "    </tr>\n",
       "  </thead>\n",
       "  <tbody>\n",
       "    <tr>\n",
       "      <th>0</th>\n",
       "      <td>Philip</td>\n",
       "      <td>1921-06-10</td>\n",
       "      <td>1</td>\n",
       "      <td>birth</td>\n",
       "    </tr>\n",
       "    <tr>\n",
       "      <th>1</th>\n",
       "      <td>Elizabeth</td>\n",
       "      <td>1926-04-21</td>\n",
       "      <td>1</td>\n",
       "      <td>birth</td>\n",
       "    </tr>\n",
       "    <tr>\n",
       "      <th>2</th>\n",
       "      <td>Engagement</td>\n",
       "      <td>1947-07-09</td>\n",
       "      <td>3</td>\n",
       "      <td>both</td>\n",
       "    </tr>\n",
       "    <tr>\n",
       "      <th>3</th>\n",
       "      <td>Wedding</td>\n",
       "      <td>1947-11-20</td>\n",
       "      <td>2</td>\n",
       "      <td>both</td>\n",
       "    </tr>\n",
       "    <tr>\n",
       "      <th>4</th>\n",
       "      <td>Charles' birth</td>\n",
       "      <td>1948-11-14</td>\n",
       "      <td>2</td>\n",
       "      <td>child</td>\n",
       "    </tr>\n",
       "  </tbody>\n",
       "</table>\n",
       "</div>"
      ],
      "text/plain": [
       "            event        date  importance category\n",
       "0          Philip  1921-06-10           1    birth\n",
       "1       Elizabeth  1926-04-21           1    birth\n",
       "2      Engagement  1947-07-09           3     both\n",
       "3         Wedding  1947-11-20           2     both\n",
       "4  Charles' birth  1948-11-14           2    child"
      ]
     },
     "execution_count": 150,
     "metadata": {},
     "output_type": "execute_result"
    }
   ],
   "source": [
    "events_df = pd.read_csv(\"events.csv\")\n",
    "events_df.head()"
   ]
  },
  {
   "cell_type": "code",
   "execution_count": 151,
   "id": "e6c625b8",
   "metadata": {},
   "outputs": [
    {
     "data": {
      "text/plain": [
       "{'Philip': {'date': '1921-06-10', 'importance': 1, 'category': 'birth'},\n",
       " 'Elizabeth': {'date': '1926-04-21', 'importance': 1, 'category': 'birth'},\n",
       " 'Engagement': {'date': '1947-07-09', 'importance': 3, 'category': 'both'},\n",
       " 'Wedding': {'date': '1947-11-20', 'importance': 2, 'category': 'both'},\n",
       " \"Charles' birth\": {'date': '1948-11-14',\n",
       "  'importance': 2,\n",
       "  'category': 'child'},\n",
       " \"Anne's birth\": {'date': '1950-08-15', 'importance': 2, 'category': 'child'},\n",
       " 'Beginning of reign': {'date': '1952-02-06',\n",
       "  'importance': 1,\n",
       "  'category': 'both'},\n",
       " 'Coronation': {'date': '1953-06-02', 'importance': 2, 'category': 'both'},\n",
       " \"Andrew's birth\": {'date': '1960-02-19',\n",
       "  'importance': 2,\n",
       "  'category': 'child'},\n",
       " \"Edward's birth\": {'date': '1964-03-10',\n",
       "  'importance': 2,\n",
       "  'category': 'child'},\n",
       " \"Philip's death\": {'date': '2021-04-09',\n",
       "  'importance': 2,\n",
       "  'category': 'death'},\n",
       " \"Elizabeth's death\": {'date': '2022-09-08',\n",
       "  'importance': 1,\n",
       "  'category': 'death'}}"
      ]
     },
     "execution_count": 151,
     "metadata": {},
     "output_type": "execute_result"
    }
   ],
   "source": [
    "events = events_df.set_index('event').transpose().to_dict()\n",
    "events"
   ]
  },
  {
   "cell_type": "markdown",
   "id": "b3dda030",
   "metadata": {},
   "source": [
    "# 2. Functions"
   ]
  },
  {
   "cell_type": "code",
   "execution_count": 166,
   "id": "0aefa010",
   "metadata": {},
   "outputs": [],
   "source": [
    "def days_between(d1, d2):\n",
    "    return abs((datetime.strptime(d2, \"%Y-%m-%d\") - datetime.strptime(d1, \"%Y-%m-%d\")).days)\n",
    "\n",
    "def rule_multiple(dt1, dt2, n):\n",
    "    if days_between(dt1.strftime('%Y-%m-%d'), dt2) % n == 0:\n",
    "        return True\n",
    "    else:\n",
    "        return False\n",
    "\n",
    "def anniversary(check_date, event_date):\n",
    "    if check_date.month == event_date.month and check_date.day == event_date.day:\n",
    "        return check_date.year - event_date.year\n",
    "    else:\n",
    "        return None\n"
   ]
  },
  {
   "cell_type": "code",
   "execution_count": 44,
   "id": "63c15bb9",
   "metadata": {},
   "outputs": [],
   "source": [
    "# iterator by date\n",
    "# date format of input args: date(YYYY, MM, DD)\n",
    "def daterange(start_date, end_date):\n",
    "    for n in range(int((end_date - start_date).days)):\n",
    "        yield start_date + timedelta(n)\n"
   ]
  },
  {
   "cell_type": "code",
   "execution_count": 133,
   "id": "c0fb6803",
   "metadata": {},
   "outputs": [],
   "source": [
    "def today_counter(events):\n",
    "    print(\"Today is...\")\n",
    "    for event in events.keys():\n",
    "        print(\"{} days since {}\".format(days_between(TODAY_DT, events[event]['date']), event))\n",
    "\n",
    "def range_calendar(dt_start, dt_end):\n",
    "    for dt in daterange(dt_start, dt_end):\n",
    "        for event in events.keys():\n",
    "            if (\n",
    "                (rule_multiple(dt, events[event]['date'], 100) and events[event]['importance'] <= 2)\n",
    "                or\n",
    "                (rule_multiple(dt, events[event]['date'], 1000) and events[event]['importance'] == 3)\n",
    "            ):\n",
    "                print(\"{} -- {} days since {}\".format(dt, days_between(dt.strftime('%Y-%m-%d'), events[event]['date']), event))\n",
    "            if anniversary(dt, datetime.strptime(events[event]['date'], \"%Y-%m-%d\")):\n",
    "                print(\"{} -- {} years since {}\".format(dt, anniversary(dt, datetime.strptime(events[event]['date'], \"%Y-%m-%d\")), event))\n",
    "            \n"
   ]
  },
  {
   "cell_type": "code",
   "execution_count": 131,
   "id": "4ce0f7e7",
   "metadata": {},
   "outputs": [],
   "source": [
    "def age_counter(birthday_dt_1, birthday_dt_2, given_dt):\n",
    "    print(\"Age difference: {} days\".format(days_between(birthday_dt_1, birthday_dt_2)))\n",
    "    print(\"Elizabeth II age: {} days\".format(days_between(given_dt, birthday_dt_1)))\n",
    "    print(\"Prince Philip age: {} days\".format(days_between(given_dt, birthday_dt_2)))\n",
    "    print(\"Total age: {} days\".format(days_between(given_dt, birthday_dt_2) + days_between(given_dt, birthday_dt_1)))\n",
    "\n",
    "def total_age_anniversaries(birthday_dt_1, birthday_dt_2, start_dt, end_dt):\n",
    "    for dt in daterange(datetime.strptime(start_dt, \"%Y-%m-%d\"), datetime.strptime(end_dt, \"%Y-%m-%d\")):\n",
    "        if (\n",
    "            (days_between(dt.strftime('%Y-%m-%d'), birthday_dt_1) + days_between(dt.strftime('%Y-%m-%d'), birthday_dt_2)) % 1000 == 0\n",
    "            or \n",
    "            (days_between(dt.strftime('%Y-%m-%d'), birthday_dt_1) + days_between(dt.strftime('%Y-%m-%d'), birthday_dt_2)) % 1000 == 1\n",
    "        ):\n",
    "            print(\"{} -- {} days of their combined age\".format(dt.strftime('%Y-%m-%d'), \n",
    "                                                               days_between(dt.strftime('%Y-%m-%d'), birthday_dt_1) + days_between(dt.strftime('%Y-%m-%d'), birthday_dt_2)\n",
    "                                                              ))\n",
    "\n",
    "def differences_inside_set(events):\n",
    "    for event1 in events.keys():\n",
    "        for event2 in events.keys():\n",
    "            if days_between(events[event1]['date'], events[event2]['date']) % 100 == 0 and event1 != event2 and events[event1]['date'] < events[event2]['date']:\n",
    "                print(\"{} days between {} and {}\".format(days_between(events[event1]['date'], events[event2]['date']), event1, event2))\n"
   ]
  },
  {
   "cell_type": "code",
   "execution_count": 172,
   "id": "86b89d03",
   "metadata": {},
   "outputs": [],
   "source": [
    "def age_counter_2(given_dt):\n",
    "    birth_dict = {}\n",
    "    for k, v in events.items():\n",
    "        if v['category'] == 'birth':\n",
    "            birth_dict[k] = v['date']\n",
    "\n",
    "    try:\n",
    "        for k in birth_dict.keys():\n",
    "            print(\"{0}'s age: {1} days\".format(k, days_between(given_dt, birth_dict[k])))\n",
    "\n",
    "        if len(birth_dict.keys()) > 1:\n",
    "            for (k1, k2) in combinations(birth_dict.keys(), 2):\n",
    "                print(\"Age difference between {0} and {1}: {2} days\".format(k1, k2, days_between(birth_dict[k1], birth_dict[k2])))\n",
    "            print(\"Total age: {} days\".format(sum([days_between(given_dt, birth_dict[k]) for k in birth_dict.keys()])))\n",
    "\n",
    "    except:\n",
    "        print(\"Something happens...\")"
   ]
  },
  {
   "cell_type": "markdown",
   "id": "b7d2c5ec",
   "metadata": {},
   "source": [
    "# 3. Performing"
   ]
  },
  {
   "cell_type": "code",
   "execution_count": 175,
   "id": "53287e19",
   "metadata": {},
   "outputs": [],
   "source": [
    "# age_counter_2(given_dt)\n",
    "# age_counter_2(\"\")"
   ]
  },
  {
   "cell_type": "code",
   "execution_count": null,
   "id": "8c0694dd",
   "metadata": {},
   "outputs": [],
   "source": []
  },
  {
   "cell_type": "code",
   "execution_count": 161,
   "id": "919c540f",
   "metadata": {},
   "outputs": [],
   "source": [
    "# today_counter(events)"
   ]
  },
  {
   "cell_type": "code",
   "execution_count": 160,
   "id": "855512b1",
   "metadata": {},
   "outputs": [],
   "source": [
    "# range_calendar(date.today(), date(2023, 12, 31))\n"
   ]
  },
  {
   "cell_type": "code",
   "execution_count": 129,
   "id": "d24dffa1",
   "metadata": {},
   "outputs": [],
   "source": [
    "# birthday_dt_1 = events[\"Elizabeth\"]['date']\n",
    "# birthday_dt_2 = events[\"Philip\"]['date']\n",
    "# given_dt = events[\"Philip's death\"]['date']\n"
   ]
  },
  {
   "cell_type": "code",
   "execution_count": 159,
   "id": "ad868400",
   "metadata": {},
   "outputs": [],
   "source": [
    "# age_counter(birthday_dt_1, birthday_dt_2, given_dt)\n"
   ]
  },
  {
   "cell_type": "code",
   "execution_count": 157,
   "id": "872df9f2",
   "metadata": {},
   "outputs": [],
   "source": [
    "# total_age_anniversaries(birthday_dt_1, birthday_dt_2, events['Engagement']['date'], events[\"Philip's death\"]['date'])\n"
   ]
  },
  {
   "cell_type": "code",
   "execution_count": 156,
   "id": "12c98f0c",
   "metadata": {},
   "outputs": [],
   "source": [
    "# differences_inside_set(events)"
   ]
  },
  {
   "cell_type": "code",
   "execution_count": null,
   "id": "ee178a63",
   "metadata": {},
   "outputs": [],
   "source": []
  },
  {
   "cell_type": "code",
   "execution_count": null,
   "id": "8c186135",
   "metadata": {},
   "outputs": [],
   "source": []
  },
  {
   "cell_type": "code",
   "execution_count": 155,
   "id": "8859fe36",
   "metadata": {},
   "outputs": [
    {
     "name": "stdout",
     "output_type": "stream",
     "text": [
      "Philip's age: 36463 days\n",
      "Elizabeth's age: 34687 days\n",
      "Age difference between Philip and Elizabeth: 1776 days\n",
      "Total age: 71150 days\n",
      "None\n"
     ]
    }
   ],
   "source": [
    "if __name__==\"__main__\":\n",
    "    print(age_counter_2('2021-04-09'))"
   ]
  },
  {
   "cell_type": "code",
   "execution_count": null,
   "id": "5aa5cd1c",
   "metadata": {},
   "outputs": [],
   "source": []
  }
 ],
 "metadata": {
  "kernelspec": {
   "display_name": "Python 3 (ipykernel)",
   "language": "python",
   "name": "python3"
  },
  "language_info": {
   "codemirror_mode": {
    "name": "ipython",
    "version": 3
   },
   "file_extension": ".py",
   "mimetype": "text/x-python",
   "name": "python",
   "nbconvert_exporter": "python",
   "pygments_lexer": "ipython3",
   "version": "3.11.1"
  }
 },
 "nbformat": 4,
 "nbformat_minor": 5
}
