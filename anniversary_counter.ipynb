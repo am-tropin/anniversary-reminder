{
 "cells": [
  {
   "cell_type": "code",
   "execution_count": null,
   "id": "e47ac94a",
   "metadata": {},
   "outputs": [],
   "source": []
  },
  {
   "cell_type": "code",
   "execution_count": 123,
   "id": "91ab4ebd",
   "metadata": {},
   "outputs": [],
   "source": [
    "import pandas as pd \n",
    "from datetime import datetime, date, timedelta\n",
    "from itertools import combinations\n"
   ]
  },
  {
   "cell_type": "code",
   "execution_count": 225,
   "id": "25518162",
   "metadata": {},
   "outputs": [],
   "source": [
    "DATE_FORMAT = \"%Y-%m-%d\"\n",
    "TODAY_DT = date.today().strftime(DATE_FORMAT)\n"
   ]
  },
  {
   "cell_type": "markdown",
   "id": "5675fde6",
   "metadata": {},
   "source": [
    "# 1. Loading the csv of dates"
   ]
  },
  {
   "cell_type": "code",
   "execution_count": 150,
   "id": "3712cf59",
   "metadata": {},
   "outputs": [
    {
     "data": {
      "text/html": [
       "<div>\n",
       "<style scoped>\n",
       "    .dataframe tbody tr th:only-of-type {\n",
       "        vertical-align: middle;\n",
       "    }\n",
       "\n",
       "    .dataframe tbody tr th {\n",
       "        vertical-align: top;\n",
       "    }\n",
       "\n",
       "    .dataframe thead th {\n",
       "        text-align: right;\n",
       "    }\n",
       "</style>\n",
       "<table border=\"1\" class=\"dataframe\">\n",
       "  <thead>\n",
       "    <tr style=\"text-align: right;\">\n",
       "      <th></th>\n",
       "      <th>event</th>\n",
       "      <th>date</th>\n",
       "      <th>importance</th>\n",
       "      <th>category</th>\n",
       "    </tr>\n",
       "  </thead>\n",
       "  <tbody>\n",
       "    <tr>\n",
       "      <th>0</th>\n",
       "      <td>Philip</td>\n",
       "      <td>1921-06-10</td>\n",
       "      <td>1</td>\n",
       "      <td>birth</td>\n",
       "    </tr>\n",
       "    <tr>\n",
       "      <th>1</th>\n",
       "      <td>Elizabeth</td>\n",
       "      <td>1926-04-21</td>\n",
       "      <td>1</td>\n",
       "      <td>birth</td>\n",
       "    </tr>\n",
       "    <tr>\n",
       "      <th>2</th>\n",
       "      <td>Engagement</td>\n",
       "      <td>1947-07-09</td>\n",
       "      <td>3</td>\n",
       "      <td>both</td>\n",
       "    </tr>\n",
       "    <tr>\n",
       "      <th>3</th>\n",
       "      <td>Wedding</td>\n",
       "      <td>1947-11-20</td>\n",
       "      <td>2</td>\n",
       "      <td>both</td>\n",
       "    </tr>\n",
       "    <tr>\n",
       "      <th>4</th>\n",
       "      <td>Charles' birth</td>\n",
       "      <td>1948-11-14</td>\n",
       "      <td>2</td>\n",
       "      <td>child</td>\n",
       "    </tr>\n",
       "  </tbody>\n",
       "</table>\n",
       "</div>"
      ],
      "text/plain": [
       "            event        date  importance category\n",
       "0          Philip  1921-06-10           1    birth\n",
       "1       Elizabeth  1926-04-21           1    birth\n",
       "2      Engagement  1947-07-09           3     both\n",
       "3         Wedding  1947-11-20           2     both\n",
       "4  Charles' birth  1948-11-14           2    child"
      ]
     },
     "execution_count": 150,
     "metadata": {},
     "output_type": "execute_result"
    }
   ],
   "source": [
    "events_df = pd.read_csv(\"events.csv\")\n",
    "events_df.head()"
   ]
  },
  {
   "cell_type": "code",
   "execution_count": 151,
   "id": "15f92913",
   "metadata": {},
   "outputs": [
    {
     "data": {
      "text/plain": [
       "{'Philip': {'date': '1921-06-10', 'importance': 1, 'category': 'birth'},\n",
       " 'Elizabeth': {'date': '1926-04-21', 'importance': 1, 'category': 'birth'},\n",
       " 'Engagement': {'date': '1947-07-09', 'importance': 3, 'category': 'both'},\n",
       " 'Wedding': {'date': '1947-11-20', 'importance': 2, 'category': 'both'},\n",
       " \"Charles' birth\": {'date': '1948-11-14',\n",
       "  'importance': 2,\n",
       "  'category': 'child'},\n",
       " \"Anne's birth\": {'date': '1950-08-15', 'importance': 2, 'category': 'child'},\n",
       " 'Beginning of reign': {'date': '1952-02-06',\n",
       "  'importance': 1,\n",
       "  'category': 'both'},\n",
       " 'Coronation': {'date': '1953-06-02', 'importance': 2, 'category': 'both'},\n",
       " \"Andrew's birth\": {'date': '1960-02-19',\n",
       "  'importance': 2,\n",
       "  'category': 'child'},\n",
       " \"Edward's birth\": {'date': '1964-03-10',\n",
       "  'importance': 2,\n",
       "  'category': 'child'},\n",
       " \"Philip's death\": {'date': '2021-04-09',\n",
       "  'importance': 2,\n",
       "  'category': 'death'},\n",
       " \"Elizabeth's death\": {'date': '2022-09-08',\n",
       "  'importance': 1,\n",
       "  'category': 'death'}}"
      ]
     },
     "execution_count": 151,
     "metadata": {},
     "output_type": "execute_result"
    }
   ],
   "source": [
    "events = events_df.set_index('event').transpose().to_dict()\n",
    "events"
   ]
  },
  {
   "cell_type": "markdown",
   "id": "990cd2f0",
   "metadata": {},
   "source": [
    "# 2. Functions"
   ]
  },
  {
   "cell_type": "code",
   "execution_count": 222,
   "id": "e979498a",
   "metadata": {},
   "outputs": [],
   "source": [
    "def days_between(dt1, dt2):\n",
    "    \"\"\"Calculates difference between `dt1` and `dt2`.\n",
    "    \n",
    "    Args:\n",
    "        dt1 (str like 'YYYY-MM-DD'): \n",
    "        dt2 (str like 'YYYY-MM-DD'): \n",
    "        \n",
    "    Returns:\n",
    "        Boolean\n",
    "    \"\"\"\n",
    "    try:\n",
    "        return abs((datetime.strptime(dt2, \"%Y-%m-%d\") - datetime.strptime(dt1, \"%Y-%m-%d\")).days)\n",
    "    except:\n",
    "        return None\n"
   ]
  },
  {
   "cell_type": "code",
   "execution_count": 227,
   "id": "81622709",
   "metadata": {},
   "outputs": [],
   "source": [
    "# iterator by date\n",
    "# date format of input args: date(YYYY, MM, DD)\n",
    "# output format: \n",
    "\n",
    "def daterange(start_dt, end_dt):\n",
    "    '''\n",
    "    - start_dt - date(YYYY, MM, DD)\n",
    "    - end_dt - date(YYYY, MM, DD)\n",
    "    Output:\n",
    "    - iterator of date(YYYY, MM, DD) from start_dt (including) to end_dt (not including)\n",
    "    '''\n",
    "    for n in range(int((end_dt - start_dt).days)):\n",
    "        yield start_dt + timedelta(n)\n"
   ]
  },
  {
   "cell_type": "code",
   "execution_count": 236,
   "id": "80236e6e",
   "metadata": {},
   "outputs": [],
   "source": [
    "# rules for detecting anniversaries\n",
    "\n",
    "def rule_multiple(dt1, dt2, n):\n",
    "    \"\"\"Identifies if difference between 2 dates `dt1` and `dt2` is multiple of `n`.\n",
    "    \n",
    "    Args:\n",
    "        dt1 (date(YYYY, MM, DD)): \n",
    "        dt2 (date(YYYY, MM, DD)): \n",
    "        n (int): The number of multiplicity.\n",
    "        \n",
    "    Returns:\n",
    "        Boolean\n",
    "    \"\"\"\n",
    "    if days_between(dt1.strftime('%Y-%m-%d'), dt2.strftime('%Y-%m-%d')) % n == 0:\n",
    "        return True\n",
    "    else:\n",
    "        return False\n",
    "\n",
    "def rule_anniversary(dt1, dt2):\n",
    "    \"\"\"Identifies if `dt1` is an anniversary of `dt2` or vice versa.\n",
    "    \n",
    "    Args:\n",
    "        dt1 (date(YYYY, MM, DD)): \n",
    "        dt2 (date(YYYY, MM, DD)): \n",
    "        \n",
    "    Returns:\n",
    "        Int or None\n",
    "    \"\"\"\n",
    "    if dt1.month == dt2.month and dt1.day == dt2.day:\n",
    "        return abs(dt1.year - dt2.year)\n",
    "    else:\n",
    "        return None\n"
   ]
  },
  {
   "cell_type": "code",
   "execution_count": 133,
   "id": "5349984f",
   "metadata": {},
   "outputs": [],
   "source": [
    "def today_counter(events):\n",
    "    print(\"Today is...\")\n",
    "    for event in events.keys():\n",
    "        print(\"{} days since {}\".format(days_between(TODAY_DT, events[event]['date']), event))\n",
    "\n",
    "def range_calendar(dt_start, dt_end):\n",
    "    for dt in daterange(dt_start, dt_end):\n",
    "        for event in events.keys():\n",
    "            event_dt = datetime.strptime(events[event]['date'], DATE_FORMAT)\n",
    "            if (\n",
    "                (rule_multiple(dt, event_dt, 100) and events[event]['importance'] <= 2)\n",
    "                or\n",
    "                (rule_multiple(dt, event_dt, 1000) and events[event]['importance'] == 3)\n",
    "            ):\n",
    "                print(\"{} -- {} days since {}\".format(dt, days_between(dt.strftime(DATE_FORMAT), events[event]['date']), event))\n",
    "            if rule_anniversary(dt, datetime.strptime(events[event]['date'], DATE_FORMAT)):\n",
    "                print(\"{} -- {} years since {}\".format(dt, rule_anniversary(dt, event_dt), event))\n",
    "            \n"
   ]
  },
  {
   "cell_type": "code",
   "execution_count": 131,
   "id": "fdcc62c2",
   "metadata": {},
   "outputs": [],
   "source": [
    "\n",
    "def differences_inside_set(events):\n",
    "    for event1 in events.keys():\n",
    "        for event2 in events.keys():\n",
    "            if days_between(events[event1]['date'], events[event2]['date']) % 100 == 0 and event1 != event2 and events[event1]['date'] < events[event2]['date']:\n",
    "                print(\"{} days between {} and {}\".format(days_between(events[event1]['date'], events[event2]['date']), event1, event2))\n"
   ]
  },
  {
   "cell_type": "code",
   "execution_count": 228,
   "id": "46f12843",
   "metadata": {},
   "outputs": [],
   "source": [
    "def birth_dates(events):\n",
    "    birth_dict = {}\n",
    "    for k, v in events.items():\n",
    "        if v['category'] == 'birth':\n",
    "            birth_dict[k] = v['date']    \n",
    "    return birth_dict"
   ]
  },
  {
   "cell_type": "code",
   "execution_count": 208,
   "id": "1adcabb9",
   "metadata": {},
   "outputs": [],
   "source": [
    "def age_counter(given_dt):\n",
    "    \n",
    "    birth_dict = birth_dates(events)\n",
    "    output_dict = {}\n",
    "    \n",
    "    try:\n",
    "        for k in birth_dict.keys():\n",
    "#             print(\"{0}'s age: {1} days\".format(k, days_between(given_dt, birth_dict[k])))\n",
    "            output_dict[\"{0}'s age\".format(k)] = days_between(given_dt, birth_dict[k])\n",
    "\n",
    "        if len(birth_dict.keys()) > 1:\n",
    "            for (k1, k2) in combinations(birth_dict.keys(), 2):\n",
    "#                 print(\"Age difference between {0} and {1}: {2} days\".format(k1, k2, days_between(birth_dict[k1], birth_dict[k2])))\n",
    "                output_dict[\"Age difference between {0} and {1}\".format(k1, k2)] = days_between(birth_dict[k1], birth_dict[k2])\n",
    "#             print(\"Total age: {} days\".format(sum([days_between(given_dt, birth_dict[k]) for k in birth_dict.keys()])))\n",
    "            output_dict[\"Total age\"] = sum([days_between(given_dt, birth_dict[k]) for k in birth_dict.keys()])\n",
    "        print(\"Ages were calculated.\")\n",
    "    \n",
    "    except:\n",
    "        print(\"Something wrong happened...\")\n",
    "\n",
    "    if len(output_dict):\n",
    "        return pd.DataFrame.from_dict(output_dict, orient='index', columns=['days'])\n",
    "    else:\n",
    "        return \"Sorry, there is no answer :(\"\n",
    "    "
   ]
  },
  {
   "cell_type": "code",
   "execution_count": 233,
   "id": "0031df0b",
   "metadata": {},
   "outputs": [],
   "source": [
    "def total_age_anniversaries(start_dt, end_dt, n):\n",
    "    \"\"\"Returns dates between `start_dt` and `end_dt` in which total age (in days) \n",
    "    is close to be multiple of `n`.\n",
    "    \n",
    "    Args:\n",
    "        start_dt (str like 'YYYY-MM-DD'): \n",
    "        end_dt (str like 'YYYY-MM-DD'): \n",
    "        n (int): The number for checking multiplicity (more or equal 10)\n",
    "    \n",
    "    Returns:\n",
    "        DataFrame\n",
    "    \"\"\"\n",
    "    birth_dict = birth_dates(events)\n",
    "    output_dict = {}\n",
    "    \n",
    "    try:\n",
    "        for dt in daterange(datetime.strptime(start_dt, \"%Y-%m-%d\"), datetime.strptime(end_dt, \"%Y-%m-%d\")):\n",
    "            total_age = sum([days_between(dt.strftime('%Y-%m-%d'), birth_dict[k]) for k in birth_dict.keys()])\n",
    "            if n >= 10 and total_age % n in range(len(birth_dict)):\n",
    "#                 print(\"{} -- {} days of their combined age\".format(dt.strftime('%Y-%m-%d'), total_age))\n",
    "                output_dict[dt.strftime('%Y-%m-%d')] = total_age\n",
    "    except:\n",
    "        print(\"Something wrong happened...\")\n",
    "    \n",
    "    if len(output_dict):\n",
    "        return pd.DataFrame.from_dict(output_dict, orient='index', columns=['days'])\n",
    "    else:\n",
    "        return \"Sorry, there is no answer :(\"\n",
    "    "
   ]
  },
  {
   "cell_type": "markdown",
   "id": "439f5dc6",
   "metadata": {},
   "source": [
    "# 3. Performing"
   ]
  },
  {
   "cell_type": "code",
   "execution_count": 211,
   "id": "6b64dd2e",
   "metadata": {},
   "outputs": [],
   "source": [
    "# age_counter(given_dt)\n",
    "# age_counter(\"\")"
   ]
  },
  {
   "cell_type": "code",
   "execution_count": 235,
   "id": "44ec6a71",
   "metadata": {},
   "outputs": [],
   "source": [
    "# total_age_anniversaries(events['Engagement']['date'], events[\"Philip's death\"]['date'], 1000)"
   ]
  },
  {
   "cell_type": "code",
   "execution_count": null,
   "id": "b1e26984",
   "metadata": {},
   "outputs": [],
   "source": []
  },
  {
   "cell_type": "code",
   "execution_count": 161,
   "id": "b6a09a65",
   "metadata": {},
   "outputs": [],
   "source": [
    "# today_counter(events)"
   ]
  },
  {
   "cell_type": "code",
   "execution_count": 160,
   "id": "e6c27b60",
   "metadata": {},
   "outputs": [],
   "source": [
    "# range_calendar(date.today(), date(2023, 12, 31))\n"
   ]
  },
  {
   "cell_type": "code",
   "execution_count": 129,
   "id": "42736744",
   "metadata": {},
   "outputs": [],
   "source": [
    "# birthday_dt_1 = events[\"Elizabeth\"]['date']\n",
    "# birthday_dt_2 = events[\"Philip\"]['date']\n",
    "# given_dt = events[\"Philip's death\"]['date']\n"
   ]
  },
  {
   "cell_type": "code",
   "execution_count": 157,
   "id": "e1b0fc92",
   "metadata": {},
   "outputs": [],
   "source": [
    "# total_age_anniversaries(birthday_dt_1, birthday_dt_2, events['Engagement']['date'], events[\"Philip's death\"]['date'])\n"
   ]
  },
  {
   "cell_type": "code",
   "execution_count": 156,
   "id": "df8169b7",
   "metadata": {},
   "outputs": [],
   "source": [
    "# differences_inside_set(events)"
   ]
  },
  {
   "cell_type": "code",
   "execution_count": null,
   "id": "8d533416",
   "metadata": {},
   "outputs": [],
   "source": []
  },
  {
   "cell_type": "code",
   "execution_count": null,
   "id": "f63df865",
   "metadata": {},
   "outputs": [],
   "source": []
  },
  {
   "cell_type": "code",
   "execution_count": 212,
   "id": "b4294d61",
   "metadata": {},
   "outputs": [
    {
     "name": "stdout",
     "output_type": "stream",
     "text": [
      "Ages were calculated.\n",
      "                                              days\n",
      "Philip's age                                 36463\n",
      "Elizabeth's age                              34687\n",
      "Age difference between Philip and Elizabeth   1776\n",
      "Total age                                    71150\n"
     ]
    }
   ],
   "source": [
    "if __name__==\"__main__\":\n",
    "    print(age_counter('2021-04-09'))"
   ]
  },
  {
   "cell_type": "code",
   "execution_count": null,
   "id": "e9cfa8fc",
   "metadata": {},
   "outputs": [],
   "source": []
  }
 ],
 "metadata": {
  "kernelspec": {
   "display_name": "Python 3 (ipykernel)",
   "language": "python",
   "name": "python3"
  },
  "language_info": {
   "codemirror_mode": {
    "name": "ipython",
    "version": 3
   },
   "file_extension": ".py",
   "mimetype": "text/x-python",
   "name": "python",
   "nbconvert_exporter": "python",
   "pygments_lexer": "ipython3",
   "version": "3.11.1"
  }
 },
 "nbformat": 4,
 "nbformat_minor": 5
}
